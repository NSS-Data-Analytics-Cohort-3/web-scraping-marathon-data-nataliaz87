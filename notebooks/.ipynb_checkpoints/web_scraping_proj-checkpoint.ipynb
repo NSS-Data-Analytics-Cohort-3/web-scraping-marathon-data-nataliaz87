{
 "cells": [
  {
   "cell_type": "code",
   "execution_count": 1,
   "metadata": {},
   "outputs": [],
   "source": [
    "import requests\n",
    "import pandas as pd\n",
    "import urllib.request\n",
    "import time\n",
    "from bs4 import BeautifulSoup\n",
    "import matplotlib.pyplot as plt\n",
    "import numpy as np\n",
    "import seaborn as sns"
   ]
  },
  {
   "cell_type": "code",
   "execution_count": 2,
   "metadata": {},
   "outputs": [],
   "source": [
    "URL_16= \"https://www.runrocknroll.com/Events/Nashville/The-Races/Marathon/2016-Results\""
   ]
  },
  {
   "cell_type": "code",
   "execution_count": 3,
   "metadata": {},
   "outputs": [
    {
     "data": {
      "text/plain": [
       "200"
      ]
     },
     "execution_count": 3,
     "metadata": {},
     "output_type": "execute_result"
    }
   ],
   "source": [
    "response_16 = requests.post(URL_16)\n",
    "response_16.status_code"
   ]
  },
  {
   "cell_type": "code",
   "execution_count": 4,
   "metadata": {},
   "outputs": [
    {
     "data": {
      "text/plain": [
       "'text/html; charset=utf-8'"
      ]
     },
     "execution_count": 4,
     "metadata": {},
     "output_type": "execute_result"
    }
   ],
   "source": [
    "response_16.headers[\"content-type\"]"
   ]
  },
  {
   "cell_type": "code",
   "execution_count": 5,
   "metadata": {},
   "outputs": [
    {
     "data": {
      "text/plain": [
       "b'\\n<!DOCTYPE html>\\n<!--[if IE 9]><html lang=\"en\" class=\"ie9 no-js\"><![endif]-->\\n<!--[if !IE]><!-->\\n<html lang=\"en\">\\n<!--<![endif]-->\\n<head>\\n<script src=\"/cdn-cgi/apps/head/u7S6kWy3Cysuih2qEtS0XdJlwiE.js\"></script><link href=\"/styles/vendor.min.css\" rel=\"stylesheet\" />\\n<link href=\"/styles/rnr.min.css\" rel=\"stylesheet\" />\\n<meta charset=\"utf-8\" />\\n<meta http-equiv=\"X-UA-Compatible\" content=\"IE=edge\">\\n<meta http-equiv=\"Content-type\" content=\"text/html; charset=utf-8\">\\n<meta content=\"width=device-width, initial-scale=1.0\" name=\"viewport\" />\\n<title> | Rock n Roll Marathon Series | Marathon Half Marathon Events</title>\\n<meta property=\"og:title\" content=\"\" />\\n<meta property=\"og:image\" content=\"\" />\\n<meta property=\"og:description\" content=\"\" />\\n<meta property=\"og:url\" content=\"https://www.runrocknroll.com:443/en/Events/Nashville/The Races/Marathon/2016 Results\" />\\n\\n<script>\\r\\n        (function (w, d, s, l, i) {\\r\\n            w[l] = w[l] || [];\\r\\n            w[l].push({\\r\\n                \\'gtm.start\\':\\r\\n                    new Date().getTime(),\\r\\n                event: \\'gtm.js\\'\\r\\n            });\\r\\n            var f = d.getElementsByTagName(s)[0],\\r\\n                j = d.createElement(s),\\r\\n                dl = l != \\'dataLayer\\' ? \\'&l=\\' + l : \\'\\';\\r\\n            j.async = true;\\r\\n            j.src =\\r\\n                \\'https://www.googletagmanager.com/gtm.js?id=\\' + i + dl;\\r\\n            f.parentNode.insertBefore(j, f);\\r\\n        })(window, document, \\'script\\', \\'dataLayer\\', \\'GTM-MFKTKL\\');\\r\\n    </script>\\n\\n\\n<script type=\"text/javascript\">\\r\\n        (function () {\\r\\n            var didInit = false;\\r\\n            function initMunchkin() {\\r\\n                if (didInit === false) {\\r\\n                    didInit = true;\\r\\n                    Munchkin.init(\\'124-QVG-738\\');\\r\\n                }\\r\\n            }\\r\\n            var s = document.createElement(\\'script\\');\\r\\n            s.type = \\'text/javascript\\';\\r\\n            s.async = true;\\r\\n            s.src = \\'//munchkin.marketo.net/munchkin.js\\';\\r\\n            s.onreadystatechange = function () {\\r\\n                if (this.readyState == \\'complete\\' || this.readyState == \\'loaded\\') {\\r\\n                    initMunchkin();\\r\\n                }\\r\\n            };\\r\\n            s.onload = initMunchkin;\\r\\n            document.getElementsByTagName(\\'head\\')[0].appendChild(s);\\r\\n        })();\\r\\n    </script>\\n\\n\\n<script src=\"/scripts/Sitecore.Foundation.Frameworks.min.js\"></script>\\n<script src=\"/scripts/Sitecore.Foundation.Theming.min.js\"></script>\\n</head>\\n<body class=\"header-static \">\\n\\n<noscript>\\r\\n        <iframe src=\"https://www.googletagmanager.com/ns.html?id=GTM-MFKTKL\"\\r\\n                height=\"0\" width=\"0\" style=\"display:none;visibility:hidden\"></iframe>\\r\\n    </noscript>\\n\\n<div id=\"main-container\">\\n<header class=\"header-static\">\\n<nav class=\"navbar navbar-default navbar-static\" id=\"mainNavbar\">\\n<div class=\"container\">\\n<div class=\"row\">\\n<div class=\"nav-wrapper\">\\n<div class=\"navbar-right col-sm-12 col-md-2 col-lg-2 clearfix\">\\n<div class=\"navbar-activity event-navbar-activity\">\\n<ul class=\"nav navbar-nav\">\\n<li class=\"dropdown\">\\n<a href=\"#\" class=\"btn dropdown-toggle\" data-toggle=\"dropdown\">\\n<i class=\"fa fa-globe\"></i>\\n</a>\\n<ul class=\"dropdown-menu\">\\n<li class=\"\">\\n<a href=\"https://www.runrocknroll.com:443/it/events/nashville/the races/marathon/2016 results/\" onclick=\"return SwitchToLanguage(\\'it\\', \\'en\\', \\'https://www.runrocknroll.com:443/it/events/nashville/the races/marathon/2016 results/\\')\">italiano</a>\\n</li>\\n<li class=\"\">\\n<a href=\"https://www.runrocknroll.com:443/zh/events/nashville/the races/marathon/2016 results/\" onclick=\"return SwitchToLanguage(\\'zh\\', \\'en\\', \\'https://www.runrocknroll.com:443/zh/events/nashville/the races/marathon/2016 results/\\')\">\\xe4\\xb8\\xad\\xe6\\x96\\x87</a>\\n</li>\\n<li class=\"active\">\\n<a href=\"https://www.runrocknroll.com:443/en/events/nashville/the races/marathon/2016 results/\" onclick=\"return SwitchToLanguage(\\'en\\', \\'en\\', \\'https://www.runrocknroll.com:443/en/events/nashville/the races/marathon/2016 results/\\')\">English</a>\\n</li>\\n<li class=\"\">\\n<a href=\"https://www.runrocknroll.com:443/fr/events/nashville/the races/marathon/2016 results/\" onclick=\"return SwitchToLanguage(\\'fr\\', \\'en\\', \\'https://www.runrocknroll.com:443/fr/events/nashville/the races/marathon/2016 results/\\')\">fran&#231;ais</a>\\n</li>\\n<li class=\"\">\\n<a href=\"https://www.runrocknroll.com:443/de/events/nashville/the races/marathon/2016 results/\" onclick=\"return SwitchToLanguage(\\'de\\', \\'en\\', \\'https://www.runrocknroll.com:443/de/events/nashville/the races/marathon/2016 results/\\')\">Deutsch</a>\\n</li>\\n<li class=\"\">\\n<a href=\"https://www.runrocknroll.com:443/es/events/nashville/the races/marathon/2016 results/\" onclick=\"return SwitchToLanguage(\\'es\\', \\'en\\', \\'https://www.runrocknroll.com:443/es/events/nashville/the races/marathon/2016 results/\\')\">espa&#241;ol</a>\\n</li>\\n</ul>\\n</li><li class=\"navbar-activity-search dropdown\">\\n<form action=\"/en/Search\" class=\"navbar-form\" role=\"search\">\\n<div class=\"form-group\">\\n<input type=\"text\" name=\"query\" id=\"searchInputBox\" placeholder=\"Enter a text to search for...\" autocomplete=\"off\" />\\n</div>\\n</form>\\n<a href=\"#\" class=\"btn navbar-toggle-search\" data-toggle-class=\"is-searching\" data-target=\"#mainNavbar\">\\n<span class=\"glyphicon glyphicon-search\"></span>\\n</a>\\n<div class=\"dropdown-menu dropdown-menu-wide\" id=\"navbar-activity-search-results\">\\n<div class=\"row panel-loading\">\\n<div class=\"col-md-12\">\\n<div class=\"text-center p-b-1\">\\nSearching...\\n</div>\\n<div class=\"text-center\">\\n<span class=\"fa fa-spinner fa-2x fa-spin\"></span>\\n</div>\\n</div>\\n</div>\\n<div class=\"row panel-results\">\\n<div class=\"col-md-12\">\\n<ul class=\"media-list results\"></ul>\\n</div>\\n</div>\\n<div class=\"row panel-result-count\">\\n<div class=\"col-md-12\">\\n<small>\\n<em class=\"result-count\"></em>\\nsearch results found.\\n</small>\\n</div>\\n</div>\\n<div class=\"row panel-facet-values\">\\n<div class=\"col-md-12\">\\n<ul class=\"facet-values\"></ul>\\n</div>\\n</div>\\n<div class=\"row\">\\n<div class=\"col-md-12\">\\n<button class=\"btn btn-primary btn-sm pull-right\" onclick=\"$(\\'.navbar-activity-search form\\').submit()\">Search</button>\\n</div>\\n</div>\\n</div>\\n</li>\\n</ul>\\n</div>\\n<div class=\"event-countdown\">\\n<input id=\"yEvent\" type=\"hidden\" value=\"2020\" />\\n<input id=\"mEvent\" type=\"hidden\" value=\"11\" />\\n<input id=\"dEvent\" type=\"hidden\" value=\"21\" />\\n<input id=\"hEvent\" type=\"hidden\" value=\"0\" />\\n<input id=\"mmEvent\" type=\"hidden\" value=\"0\" />\\n<input id=\"sEvent\" type=\"hidden\" value=\"0\" />\\n<table>\\n<tr>\\n<td id=\"ddcounter\">&nbsp;</td>\\n<td id=\"hhcounter\"> </td>\\n<td id=\"mmcounter\"> </td>\\n<td id=\"sscounter\"> </td>\\n</tr>\\n<tr>\\n<th>Days</th>\\n<th>Hours</th>\\n<th>Mins</th>\\n<th>Secs</th>\\n</tr>\\n</table>\\n</div>\\n<ul class=\"nav navbar-nav mega-menu-results header-btn\">\\n<li class=\"dropdown\">\\n<a href=\"/en/Events/Nashville/Registration\" class=\"dropdown-toggle btn btn-block\">Register</a>\\n</li>\\n</ul>\\n</div>\\n<div class=\"navbar-left col-sm-12 col-md-2 col-lg-2\">\\n<button type=\"button\" class=\"navbar-toggle collapsed\" data-toggle=\"collapse\" data-target=\"#siteNavbar\" aria-expanded=\"false\">\\n<span class=\"sr-only\">Toggle navigation</span>\\n<span class=\"icon-bar\"></span>\\n<span class=\"icon-bar\"></span>\\n<span class=\"icon-bar\"></span>\\n</button>\\n<a class=\"navbar-brand \" href=\"/en\">\\n<span class=\"logo row\">\\n<img src=\"/-/media/RnR/Images/Logo/rock-n-roll-marathon-logo.png?h=50&amp;la=en&amp;mh=50&amp;w=270&amp;hash=B93502675AEE53BFDE866A7EEF0E5CD9\" alt=\"Rock n Roll Marathon Series\" width=\"270\" height=\"50\" DisableWebEdit=\"False\" />\\n</span>\\n</a>\\n</div>\\n<div class=\"navbar-center col-sm-12 col-md-8 col-lg-8\">\\n<div class=\"collapse navbar-collapse\" id=\"siteNavbar\">\\n<ul class=\"nav navbar-nav\">\\n<li class=\"\">\\n<a class=\"text-uppercase\" href=\"/en/Blog\" target=\"\">\\nBlog\\n</a>\\n</li>\\n<li class=\"\">\\n<a class=\"text-uppercase\" href=\"https://www.runrocknrollstore.com/\" target=\"_blank\">\\nShop\\n</a>\\n</li>\\n<li class=\"\">\\n<a class=\"text-uppercase\" href=\"https://www.runrocknroll.com/Programs/TourPass\" target=\"|Custom\">\\nTourPass\\n</a>\\n</li>\\n<li class=\"\">\\n<a class=\"text-uppercase\" href=\"http://www.runrocknrollvr.com\" target=\"_blank\">\\nVirtual Club\\n</a>\\n</li>\\n<li class=\"\">\\n<a class=\"text-uppercase\" href=\"/en/Events\" target=\"\">\\nEvents\\n</a>\\n</li>\\n<li class=\"\">\\n<a class=\"text-uppercase\" href=\"/en/Programs\" target=\"\">\\nPrograms\\n</a>\\n</li>\\n<li class=\"\">\\n<a class=\"text-uppercase\" href=\"/en/Partners\" target=\"\">\\nPartners\\n</a>\\n</li>\\n<li class=\"\">\\n<a class=\"text-uppercase\" href=\"/en/Results\" target=\"\">\\nResults\\n</a>\\n</li>\\n</ul>\\n</div>\\n\\n<div class=\"row nav-mega-menu\">\\n<div class=\"col-lg-12\">\\n<ul class=\"nav navbar-nav mega-menu-main\">\\n<li class=\" nav-2 col-lg-6  dropdown\">\\n<a href=\"\" class=\"dropdown-toggle btn btn-block\" data-toggle=\"dropdown\" aria-haspopup=\"true\" aria-expanded=\"false\">\\nThe Races\\n</a>\\n<div class=\"mega-menu-content\">\\n<div class=\"row\">\\n<div class=\"col-xs-12 col-sm-3 col-md-3\">\\n<div class=\"collapse navbar-collapse\" id=\"siteNavbar\">\\n<ul class=\"nav nav-service navbar-nav nav-pills\">\\n<li class=\"\">\\n<a href=\"/en/Events/Nashville/The-Races/FAQ\" target=\"\" title=\"FAQ\" class=\"\">\\nFAQ </a>\\n</li>\\n<li class=\"\">\\n<a href=\"/en/Events/Nashville/The-Races/Results\" target=\"\" title=\"Results\" class=\"\">\\nResults </a>\\n</li>\\n<li class=\"\">\\n<a href=\"/en/Events/Nashville/The-Races/Road-Closures\" target=\"\" title=\"Road Closures\" class=\"\">\\nRoad Closures </a>\\n</li>\\n<li class=\"\">\\n<a href=\"/en/Elite-Athletes\" target=\"\" title=\"Elites\" class=\"\">\\nElites </a>\\n</li>\\n<li class=\"\">\\n<a href=\"/en/Programs/Athletes-with-Disabilities\" target=\"\" title=\"Athletes with Disabilities\" class=\"\">\\nAthletes with Disabilities </a>\\n</li>\\n</ul>\\n</div>\\n</div>\\n<div class=\"col-xs-12 col-sm-4 col-md-4\">\\n<div class=\"collapse navbar-collapse\" id=\"siteNavbar\">\\n<ul class=\"nav nav-service navbar-nav nav-pills\">\\n<li class=\"active \">\\n<a href=\"/en/Events/Nashville/The-Races/Marathon\" target=\"\" title=\"Marathon\" class=\"\">\\nMarathon </a>\\n</li>\\n<li class=\"\">\\n<a href=\"/en/Events/Nashville/The-Races/Half-Marathon\" target=\"\" title=\"Half Marathon\" class=\"\">\\nHalf Marathon </a>\\n</li>\\n</ul>\\n</div>\\n</div>\\n</div> </div>\\n</li>\\n<li class=\" nav-2 col-lg-6  dropdown\">\\n<a href=\"\" class=\"dropdown-toggle btn btn-block\" data-toggle=\"dropdown\" aria-haspopup=\"true\" aria-expanded=\"false\">\\nThe Weekend\\n</a>\\n<div class=\"mega-menu-content\">\\n<div class=\"row\">\\n<div class=\"col-xs-12 col-sm-3 col-md-3\">\\n<div class=\"collapse navbar-collapse\" id=\"siteNavbar\">\\n<ul class=\"nav nav-service navbar-nav nav-pills\">\\n<li class=\"\">\\n<a href=\"/en/Events/Nashville/The-Weekend/Travel/Stay\" target=\"\" title=\"Hotels\" class=\"\">\\nHotels </a>\\n</li>\\n<li class=\"\">\\n<a href=\"/en/Events/Nashville/The-Weekend/Travel/Fly\" target=\"\" title=\"Travel\" class=\"\">\\nTravel </a>\\n</li>\\n<li class=\"\">\\n<a href=\"/en/Events/Nashville/The-Weekend/Expo\" target=\"\" title=\"Expo\" class=\"\">\\nExpo </a>\\n</li>\\n<li class=\"\">\\n<a href=\"/en/Events/Nashville/The-Weekend/Schedule\" target=\"\" title=\"Schedule\" class=\"\">\\nSchedule </a>\\n</li>\\n<li class=\"\">\\n<a href=\"\" target=\"\" title=\"Entertainment\" class=\"\">\\nEntertainment </a>\\n</li>\\n</ul>\\n</div>\\n</div>\\n<div class=\"col-xs-12 col-sm-2 col-md-2\">\\n<div class=\"collapse navbar-collapse\" id=\"siteNavbar\">\\n<ul class=\"nav nav-service navbar-nav nav-pills\">\\n<li class=\"\">\\n<a href=\"/en/Events/Nashville/The-Weekend/Everything-RNRNashville\" target=\"\" title=\"Everything #RNRNashville\" class=\"\">\\nEverything #RNRNashville </a>\\n</li>\\n<li class=\"divider-left\">\\n<a href=\"/en/Events/Nashville/The-Weekend/Runner-Perks\" target=\"|Custom\" title=\"Runner Perks\" class=\"\">\\nRunner Perks </a>\\n</li>\\n<li class=\"\">\\n<a href=\"/en/Events/Nashville/The-Weekend/Travel/Transport\" target=\"|Custom\" title=\"Parking Information\" class=\"\">\\nParking Information </a>\\n</li>\\n<li class=\"divider-left\">\\n<a href=\"/en/Events/Nashville/News-and-Promotions\" target=\"|Custom\" title=\"News and Promotions\" class=\"\">\\nNews and Promotions </a>\\n</li>\\n<li class=\"\">\\n<a href=\"/en/Events/Nashville/The-Weekend/Volunteer\" target=\"\" title=\"Volunteer\" class=\"\">\\nVolunteer </a>\\n</li>\\n</ul>\\n</div>\\n</div>\\n</div> </div>\\n</li>\\n</ul>\\n</div>\\n</div>\\n</div>\\n</div>\\n</div>\\n</div>\\n</nav>\\n</header>\\n<main role=\"main\">\\n<header class=\"page-header bg-media\" style=background-image:url(&#39;/-/media/RnR/Images/Events/Nashville/Images/nash-hero-new-compressor.jpg&#39;);>\\n<div class=\"container breadcrumb-container\">\\n<ol class=\"breadcrumb\">\\n<li class=\"\">\\n<a href=\"/en\">Home</a>\\n</li>\\n<li class=\"\">\\n<a href=\"/en/Events\">Events</a>\\n</li>\\n<li class=\"\">\\n<a href=\"/en/Events/Nashville\">Nashville</a>\\n</li>\\n<li class=\"\">\\n<a href=\"/en/Events/Nashville/The-Races\">The Races</a>\\n</li>\\n<li class=\"\">\\n<a href=\"/en/Events/Nashville/The-Races/Marathon\">Marathon</a>\\n</li>\\n<li class=\"active\">\\n<a href=\"/en/Events/Nashville/The-Races/Marathon/2016-Results\">2018 Results</a>\\n</li>\\n</ol>\\n</div>\\n<div class=\"container text-center g-pb-50\">\\n<div class=\"row g-min-height-500\">\\n<div class=\"col-lg-12\">\\n<div class=\"event-header-container\">\\n<div class=\"row ev-h2-div\">\\n<div class=\"divider-div\">\\n<div class=\"low-divider\"></div>\\n</div>\\n<div class=\"ev-h2\">\\n<h2>\\nRock &#39;n&#39; Roll </h2>\\n</div>\\n<div class=\"divider-div\">\\n<div class=\"low-divider\"></div>\\n</div>\\n</div>\\n<div class=\"ev-h1\">\\n<h1>\\nNashville </h1>\\n</div>\\n<div class=\"row ev-h3-div\">\\n<div class=\"divider-div\">\\n<div class=\"low-divider\"></div>\\n</div>\\n<div class=\"ev-h3\">\\n<h3>\\n<time>\\nNov 21, 2020\\n</time>\\n</h3>\\n</div>\\n<div class=\"divider-div\">\\n<div class=\"low-divider\"></div>\\n</div>\\n</div>\\n</div>\\n</div>\\n</div>\\n</div>\\n</header>\\n<section class=\"section section-full \">\\n<div class=\"container\">\\n<div class=\"row\">\\n<div class=\"col-md-12\">\\n\\n<div class=\"row race-search-res-container\">\\n<div class=\"race-search-res-div-main col-xs-12\">\\n<h2><br /><small>Saturday, April 30, 2016</small></h2>\\n<div class=\"race-search-main col-xs-12\">\\n<div class=\"race-search-top10-div\">\\n<table class=\"table table-responsive table-bordered\">\\n<tr>\\n<th class=\"table-place\">Overall</th>\\n<th class=\"table-place\">Bib</th>\\n<th class=\"table-name\">Name</th>\\n<th class=\"table-time\">Time</th>\\n</tr>\\n<tr>\\n<td>1</td>\\n<td>1</td>\\n<td><a href=\"/en/Events/Nashville/The-Races/Marathon/2016-Results/Athlete?id=1\">Scott Wietecha</a></td>\\n<td>02:25:42</td>\\n</tr>\\n<tr>\\n<td>2</td>\\n<td>3</td>\\n<td><a href=\"/en/Events/Nashville/The-Races/Marathon/2016-Results/Athlete?id=3\">Brian Shelton</a></td>\\n<td>02:34:43</td>\\n</tr>\\n<tr>\\n<td>3</td>\\n<td>1047</td>\\n<td><a href=\"/en/Events/Nashville/The-Races/Marathon/2016-Results/Athlete?id=1047\">Christopher Capps</a></td>\\n<td>02:38:43</td>\\n</tr>\\n<tr>\\n<td>4</td>\\n<td>1052</td>\\n<td><a href=\"/en/Events/Nashville/The-Races/Marathon/2016-Results/Athlete?id=1052\">Jason Grimes</a></td>\\n<td>02:45:06</td>\\n</tr>\\n<tr>\\n<td>5</td>\\n<td>1046</td>\\n<td><a href=\"/en/Events/Nashville/The-Races/Marathon/2016-Results/Athlete?id=1046\">David Adams</a></td>\\n<td>02:47:28</td>\\n</tr>\\n<tr>\\n<td>6</td>\\n<td>1049</td>\\n<td><a href=\"/en/Events/Nashville/The-Races/Marathon/2016-Results/Athlete?id=1049\">Matthew Meinema</a></td>\\n<td>02:47:36</td>\\n</tr>\\n<tr>\\n<td>7</td>\\n<td>1044</td>\\n<td><a href=\"/en/Events/Nashville/The-Races/Marathon/2016-Results/Athlete?id=1044\">Seth Carley</a></td>\\n<td>02:48:22</td>\\n</tr>\\n<tr>\\n<td>8</td>\\n<td>1092</td>\\n<td><a href=\"/en/Events/Nashville/The-Races/Marathon/2016-Results/Athlete?id=1092\">Ben Becker</a></td>\\n<td>02:52:19</td>\\n</tr>\\n<tr>\\n<td>9</td>\\n<td>1057</td>\\n<td><a href=\"/en/Events/Nashville/The-Races/Marathon/2016-Results/Athlete?id=1057\">Jonathan Mason</a></td>\\n<td>02:53:38</td>\\n</tr>\\n<tr>\\n<td>10</td>\\n<td>1058</td>\\n<td><a href=\"/en/Events/Nashville/The-Races/Marathon/2016-Results/Athlete?id=1058\">Matt Treat</a></td>\\n<td>02:53:48</td>\\n</tr>\\n<tr>\\n<td>11</td>\\n<td>1067</td>\\n<td><a href=\"/en/Events/Nashville/The-Races/Marathon/2016-Results/Athlete?id=1067\">Kevin Selinsky</a></td>\\n<td>02:55:49</td>\\n</tr>\\n<tr>\\n<td>12</td>\\n<td>1069</td>\\n<td><a href=\"/en/Events/Nashville/The-Races/Marathon/2016-Results/Athlete?id=1069\">Cole Bataille</a></td>\\n<td>02:56:56</td>\\n</tr>\\n<tr>\\n<td>13</td>\\n<td>1087</td>\\n<td><a href=\"/en/Events/Nashville/The-Races/Marathon/2016-Results/Athlete?id=1087\">Joseph Shields</a></td>\\n<td>02:58:53</td>\\n</tr>\\n<tr>\\n<td>14</td>\\n<td>1108</td>\\n<td><a href=\"/en/Events/Nashville/The-Races/Marathon/2016-Results/Athlete?id=1108\">Melanie Kulesz</a></td>\\n<td>02:59:09</td>\\n</tr>\\n<tr>\\n<td>15</td>\\n<td>2014</td>\\n<td><a href=\"/en/Events/Nashville/The-Races/Marathon/2016-Results/Athlete?id=2014\">Kieran Frost</a></td>\\n<td>02:59:30</td>\\n</tr>\\n<tr>\\n<td>16</td>\\n<td>1155</td>\\n<td><a href=\"/en/Events/Nashville/The-Races/Marathon/2016-Results/Athlete?id=1155\">Brian Wiest</a></td>\\n<td>02:59:51</td>\\n</tr>\\n<tr>\\n<td>17</td>\\n<td>1048</td>\\n<td><a href=\"/en/Events/Nashville/The-Races/Marathon/2016-Results/Athlete?id=1048\">Braden Robbins</a></td>\\n<td>03:00:26</td>\\n</tr>\\n<tr>\\n<td>18</td>\\n <td>1080</td>\\n<td><a href=\"/en/Events/Nashville/The-Races/Marathon/2016-Results/Athlete?id=1080\">Bo Brewer</a></td>\\n<td>03:01:09</td>\\n</tr>\\n<tr>\\n<td>19</td>\\n<td>27408</td>\\n<td><a href=\"/en/Events/Nashville/The-Races/Marathon/2016-Results/Athlete?id=27408\">Bryan Larison</a></td>\\n<td>03:01:23</td>\\n</tr>\\n<tr>\\n<td>20</td>\\n<td>101</td>\\n<td><a href=\"/en/Events/Nashville/The-Races/Marathon/2016-Results/Athlete?id=101\">Megan Hovis</a></td>\\n<td>03:04:49</td>\\n</tr>\\n<tr>\\n<td>21</td>\\n<td>2003</td>\\n<td><a href=\"/en/Events/Nashville/The-Races/Marathon/2016-Results/Athlete?id=2003\">Ryan Ladd</a></td>\\n<td>03:05:51</td>\\n</tr>\\n<tr>\\n<td>22</td>\\n<td>1081</td>\\n<td><a href=\"/en/Events/Nashville/The-Races/Marathon/2016-Results/Athlete?id=1081\">Mark Temme</a></td>\\n<td>03:06:21</td>\\n</tr>\\n<tr>\\n<td>23</td>\\n<td>1137</td>\\n<td><a href=\"/en/Events/Nashville/The-Races/Marathon/2016-Results/Athlete?id=1137\">Alexandre Jamar</a></td>\\n<td>03:06:22</td>\\n</tr>\\n<tr>\\n<td>24</td>\\n<td>1142</td>\\n<td><a href=\"/en/Events/Nashville/The-Races/Marathon/2016-Results/Athlete?id=1142\">Shandra Moore</a></td>\\n<td>03:08:32</td>\\n</tr>\\n<tr>\\n<td>25</td>\\n<td>1085</td>\\n<td><a href=\"/en/Events/Nashville/The-Races/Marathon/2016-Results/Athlete?id=1085\">Thomas Von Der Ohe</a></td>\\n<td>03:08:39</td>\\n</tr>\\n</table>\\n<div class=\"pager\">\\n<form action=\"/Events/Nashville/The-Races/Marathon/2016-Results\" class=\"pager col-xs-12\" id=\"list-pager\" method=\"post\"><div class=\"pagination-container\"><ul class=\"pagination\"><li class=\"disabled PagedList-skipToPrevious\"><a rel=\"prev\"><</a></li><li class=\"active\"><span>1</span></li><li><a href=\"https://www.runrocknroll.com/Events/Nashville/The-Races/Marathon/2016-Results?gender=&amp;agegroup=&amp;bib=&amp;firstname=&amp;lastname=&amp;page=2\">2</a></li><li><a href=\"https://www.runrocknroll.com/Events/Nashville/The-Races/Marathon/2016-Results?gender=&amp;agegroup=&amp;bib=&amp;firstname=&amp;lastname=&amp;page=3\">3</a></li><li><a href=\"https://www.runrocknroll.com/Events/Nashville/The-Races/Marathon/2016-Results?gender=&amp;agegroup=&amp;bib=&amp;firstname=&amp;lastname=&amp;page=4\">4</a></li><li><a href=\"https://www.runrocknroll.com/Events/Nashville/The-Races/Marathon/2016-Results?gender=&amp;agegroup=&amp;bib=&amp;firstname=&amp;lastname=&amp;page=5\">5</a></li><li class=\"PagedList-skipToNext\"><a href=\"https://www.runrocknroll.com/Events/Nashville/The-Races/Marathon/2016-Results?gender=&amp;agegroup=&amp;bib=&amp;firstname=&amp;lastname=&amp;page=6\" rel=\"next\">&#8230;</a></li><li class=\"PagedList-skipToNext\"><a href=\"https://www.runrocknroll.com/Events/Nashville/The-Races/Marathon/2016-Results?gender=&amp;agegroup=&amp;bib=&amp;firstname=&amp;lastname=&amp;page=2\" rel=\"next\">></a></li></ul></div></form> <form action=\"/Events/Nashville/The-Races/Marathon/2016-Results\" class=\"pager col-xs-12\" method=\"get\"> <span class=\"col-xs-12 col-sm-5\">\\n<input type=\"submit\" value=\"New Search\" class=\"btn btn-block red-grad-btn search-btn\" value=\"New Search\" />\\n</span>\\n</form> </div>\\n<script>\\r\\n                    $(\".pager a\").click(function (event) {\\r\\n                        event.preventDefault();\\r\\n                        var element = $(this);\\r\\n                        var action = element.attr(\"href\");\\r\\n                        element.closest(\"form\").each(function () {\\r\\n                            var form = $(this);\\r\\n                            form.attr(\"action\", action);\\r\\n                            form.submit();\\r\\n                        });\\r\\n                    });\\r\\n                </script>\\n</div>\\n</div>\\n</div>\\n</div>\\n<div class=\"headline2 \">\\n<h3>Leaderboards</h3>\\n</div>\\n</div>\\n</div>\\n</div><div class=\"container\">\\n<div class=\"row\">\\n<div class=\"col-md-6\">\\n<div class=\"race-search-top10-div\">\\n<table class=\"table table-responsive table-bordered\">\\n<tr>\\n<th class=\"table-header\" colspan=\"3\">Top Females</th>\\n</tr>\\n<tr>\\n<th class=\"table-place\">Gender PL</th>\\n<th class=\"table-name\">Name</th>\\n<th class=\"table-time\">Time</th>\\n</tr>\\n<tr>\\n<td>1</td>\\n<td><a href=\"/en/Events/Nashville/The-Races/Marathon/2016-Results/Athlete?id=1108\">Melanie Kulesz</a></td>\\n<td>02:59:09</td>\\n</tr>\\n<tr>\\n<td>2</td>\\n<td><a href=\"/en/Events/Nashville/The-Races/Marathon/2016-Results/Athlete?id=101\">Megan Hovis</a></td>\\n<td>03:04:49</td>\\n</tr>\\n<tr>\\n<td>3</td>\\n<td><a href=\"/en/Events/Nashville/The-Races/Marathon/2016-Results/Athlete?id=1142\">Shandra Moore</a></td>\\n<td>03:08:32</td>\\n</tr>\\n<tr>\\n<td>4</td>\\n<td><a href=\"/en/Events/Nashville/The-Races/Marathon/2016-Results/Athlete?id=4077\">Kelli Proctor</a></td>\\n<td>03:10:08</td>\\n</tr>\\n<tr>\\n<td>5</td>\\n<td><a href=\"/en/Events/Nashville/The-Races/Marathon/2016-Results/Athlete?id=4054\">Marykate Kausel</a></td>\\n<td>03:10:54</td>\\n</tr>\\n<tr>\\n<td>6</td>\\n<td><a href=\"/en/Events/Nashville/The-Races/Marathon/2016-Results/Athlete?id=2106\">Jessica Hoefert</a></td>\\n<td>03:11:34</td>\\n</tr>\\n<tr>\\n<td>7</td>\\n<td><a href=\"/en/Events/Nashville/The-Races/Marathon/2016-Results/Athlete?id=1141\">Lynn Baione</a></td>\\n<td>03:13:13</td>\\n</tr>\\n<tr>\\n<td>8</td>\\n<td><a href=\"/en/Events/Nashville/The-Races/Marathon/2016-Results/Athlete?id=1149\">Jodi Theriault</a></td>\\n<td>03:13:15</td>\\n</tr>\\n<tr>\\n<td>9</td>\\n<td><a href=\"/en/Events/Nashville/The-Races/Marathon/2016-Results/Athlete?id=1176\">Jillian Brady</a></td>\\n<td>03:14:14</td>\\n</tr>\\n<tr>\\n<td>10</td>\\n<td><a href=\"/en/Events/Nashville/The-Races/Marathon/2016-Results/Athlete?id=2001\">Riki Allen</a></td>\\n<td>03:14:23</td>\\n</tr>\\n</table>\\n</div>\\n</div>\\n<div class=\"col-md-6\">\\n<div class=\"race-search-top10-div\">\\n<table class=\"table table-responsive table-bordered\">\\n<tr>\\n<th class=\"table-header\" colspan=\"3\">Top Men</th>\\n</tr>\\n<tr>\\n<th class=\"table-place\">Gender PL</th>\\n<th class=\"table-name\">Name</th>\\n<th class=\"table-time\">Time</th>\\n</tr>\\n<tr>\\n<td>1</td>\\n<td><a href=\"/en/Events/Nashville/The-Races/Marathon/2016-Results/Athlete?id=1\">Scott Wietecha</a></td>\\n<td>02:25:42</td>\\n</tr>\\n<tr>\\n<td>2</td>\\n<td><a href=\"/en/Events/Nashville/The-Races/Marathon/2016-Results/Athlete?id=3\">Brian Shelton</a></td>\\n<td>02:34:43</td>\\n</tr>\\n<tr>\\n<td>3</td>\\n<td><a href=\"/en/Events/Nashville/The-Races/Marathon/2016-Results/Athlete?id=1047\">Christopher Capps</a></td>\\n<td>02:38:43</td>\\n</tr>\\n<tr>\\n<td>4</td>\\n<td><a href=\"/en/Events/Nashville/The-Races/Marathon/2016-Results/Athlete?id=1052\">Jason Grimes</a></td>\\n<td>02:45:06</td>\\n</tr>\\n<tr>\\n<td>5</td>\\n<td><a href=\"/en/Events/Nashville/The-Races/Marathon/2016-Results/Athlete?id=1046\">David Adams</a></td>\\n<td>02:47:28</td>\\n</tr>\\n<tr>\\n<td>6</td>\\n<td><a href=\"/en/Events/Nashville/The-Races/Marathon/2016-Results/Athlete?id=1049\">Matthew Meinema</a></td>\\n<td>02:47:36</td>\\n</tr>\\n<tr>\\n<td>7</td>\\n<td><a href=\"/en/Events/Nashville/The-Races/Marathon/2016-Results/Athlete?id=1044\">Seth Carley</a></td>\\n<td>02:48:22</td>\\n</tr>\\n<tr>\\n<td>8</td>\\n<td><a href=\"/en/Events/Nashville/The-Races/Marathon/2016-Results/Athlete?id=1092\">Ben Becker</a></td>\\n<td>02:52:19</td>\\n</tr>\\n<tr>\\n<td>9</td>\\n<td><a href=\"/en/Events/Nashville/The-Races/Marathon/2016-Results/Athlete?id=1057\">Jonathan Mason</a></td>\\n<td>02:53:38</td>\\n</tr>\\n<tr>\\n<td>10</td>\\n<td><a href=\"/en/Events/Nashville/The-Races/Marathon/2016-Results/Athlete?id=1058\">Matt Treat</a></td>\\n<td>02:53:48</td>\\n</tr>\\n</table>\\n</div>\\n</div>\\n</div>\\n</div>\\n</section><section class=\"section section-full \">\\n<div class=\"container\">\\n<div class=\"row\">\\n<div class=\"col-md-6\">\\n</div>\\n<div class=\"col-md-6\">\\n</div>\\n</div>\\n</div>\\n</section>\\n<div class=\"text-center\">\\n<ul class=\"list-inline\">\\n</ul>\\n</div>\\n<div id=\"secSponsor\" class=\"owl-carousel sponsors\" data-options=\\'{\"items\": 8, \"autoplay\": true, \"autoplayTimeout\": 5000, \"loop\": true, \"navigation\": false, \"navigationText\": [\"<\", \">\"], \"responsive\":{ \"0\" :{ \"items\": 2 }, \"500\" :{ \"items\": 3 }, \"860\" :{ \"items\" : 4 } , \"1000\":{ \"items\" : 8 }} }\\'>\\n<div>\\n<a href=\"http://www.brooksrunning.com/\" target=\"_blank\">\\n<img src=\"/-/media/RnR/Images/Sponsors/Series-Sponsors/Brooks/brooks_horiz_blk.jpg?h=50&amp;mh=100&amp;w=171&amp;hash=9A8F9BE5CFE4E99F11B840A488EBC39B\" class=\"img-responsive\" alt=\"Brooks\" width=\"171\" height=\"50\" DisableWebEdit=\"False\" />\\n</a>\\n</div>\\n<div>\\n<a href=\"https://www.united.com/ual/en/us/\" target=\"_blank\">\\n<img src=\"/-/media/RnR/Images/Sponsors/Series-Sponsors/United-Airlines/160x50-united.jpg?h=50&amp;mh=100&amp;w=160&amp;hash=F59D3AC956300DFABF57851C7D9C716B\" class=\"img-responsive\" alt=\"united airlines\" width=\"160\" height=\"50\" DisableWebEdit=\"False\" />\\n</a>\\n</div>\\n<div>\\n<a href=\"https://www.humana.com\" target=\"_blank\">\\n<img src=\"/-/media/RnR/Images/Sponsors/Series-Sponsors/Humana/partner_logo-humana.jpg?h=50&amp;mh=100&amp;w=109&amp;hash=2DA5DD6B8859825235CD7DBADC52C0B9\" class=\"img-responsive\" alt=\"humana\" width=\"109\" height=\"50\" DisableWebEdit=\"False\" />\\n </a>\\n</div>\\n<div>\\n<a href=\"https://www.active.com/.\" target=\"_blank\">\\n<img src=\"/-/media/Active_grey.png?h=50&amp;mh=100&amp;w=100&amp;hash=C603B69939862854A284B13FFBE5C615\" class=\"img-responsive\" alt=\"active\" width=\"100\" height=\"50\" DisableWebEdit=\"False\" />\\n</a>\\n</div>\\n<div>\\n<a href=\"https://cepcompression.com/\" target=\"_blank\">\\n<img src=\"/-/media/RnR/Images/Sponsors/Series-Sponsors/CEP/cep-160x160-bw/cep-160x160-bw_50.png?h=50&amp;mh=100&amp;w=114&amp;hash=D7E02BFBF2CE675F50E3AB09FB4BE102\" class=\"img-responsive\" alt=\"CEP Compression Logo\" width=\"114\" height=\"50\" DisableWebEdit=\"False\" />\\n</a>\\n</div>\\n<div>\\n<a href=\"https://www.builtwithchocolatemilk.com/\" target=\"_blank\">\\n<img src=\"/-/media/RnR/Images/Sponsors/Series-Sponsors/Chocolate-Milk/partner_logo-chocolate-milk.jpg?h=50&amp;mh=100&amp;w=90&amp;hash=F208A4FDCD204BD9C78F96B4D6805492\" class=\"img-responsive\" alt=\"Milk\" width=\"90\" height=\"50\" DisableWebEdit=\"False\" />\\n</a>\\n</div>\\n<div>\\n<a href=\"https://www.finisherpix.com/home.html\" target=\"_blank\">\\n<img src=\"/-/media/RnR/Images/Sponsors/Series-Sponsors/FinisherPix/FinisherPix_GreyScale.png?h=50&amp;mh=100&amp;w=152&amp;hash=9BE2C1CF2E172C0E89C8078166897F3A\" class=\"img-responsive\" alt=\"finisher pix\" width=\"152\" height=\"50\" DisableWebEdit=\"False\" />\\n</a>\\n</div>\\n<div>\\n<a href=\"http://www.gatorade.com/endurance/\" target=\"_blank\">\\n<img src=\"/-/media/RnR/Images/Sponsors/Series-Sponsors/Gatorade/partner_logo-gatorade-endurance.jpg?h=50&amp;mh=100&amp;w=65&amp;hash=64BBEBDEF000B3A4C0EFEAE87C584123\" class=\"img-responsive\" alt=\"Gatorade\" width=\"65\" height=\"50\" DisableWebEdit=\"False\" />\\n</a>\\n</div>\\n<div>\\n<a href=\"https://bubbafoods.com/\" target=\"_blank\">\\n<img src=\"/-/media/RnR/Images/Sponsors/Series-Sponsors/Bubba-Burger/bubba-burger-logo_GreyScale.png?h=50&amp;mh=100&amp;w=132&amp;hash=BA894BFB29C59DE0989073ED15B6E513\" class=\"img-responsive\" alt=\"Bubba Burger\" width=\"132\" height=\"50\" DisableWebEdit=\"False\" />\\n</a>\\n</div>\\n<div>\\n<a href=\"http://www.dolesunshine.com\" target=\"\">\\n<img src=\"/-/media/RnR/Images/Sponsors/Series-Sponsors/Dole/2020_Dole_logo_greyscale.png?h=65&amp;mh=100&amp;w=95&amp;hash=49EB33789497D77B74DF8B20E430E7F6\" class=\"img-responsive\" alt=\"2020_Dole_logo_greyscale\" width=\"95\" height=\"65\" DisableWebEdit=\"False\" />\\n</a>\\n</div>\\n<div>\\n<a href=\"https://www.pnc.com/tennesseecommercial\" target=\"_blank\">\\n<img src=\"/-/media/RnR/Images/Sponsors/Nashville-Sponsors/PNC_Bank_Logo.png?h=50&amp;mh=100&amp;w=267&amp;hash=9D4167B4BD0073A536B27CBB9DACF416\" class=\"img-responsive\" alt=\"PNC_Bank_Logo\" width=\"267\" height=\"50\" DisableWebEdit=\"False\" />\\n</a>\\n</div>\\n<div>\\n<a href=\"http://www.potatoesusa.com/\" target=\"_blank\">\\n<img src=\"/-/media/RnR/Images/Sponsors/Series-Sponsors/Potatoes-USA/PotatoesUSA_LogoGreyScale_3.png?h=100&amp;mh=100&amp;w=217&amp;hash=BB6E3A5C17F39085E24713ACB27F82C7\" class=\"img-responsive\" alt=\"Potatoes USA\" width=\"217\" height=\"100\" DisableWebEdit=\"False\" />\\n</a>\\n</div>\\n<div>\\n<a href=\"https://www.thelaughingcow.com/\" target=\"_blank\">\\n<img src=\"/-/media/RnR/Images/Sponsors/Series-Sponsors/Laughing-Cow/Laughing-Cow-Grey-logo.jpg?h=50&amp;mh=100&amp;w=100&amp;hash=69A1FBCEBD9F96E27B7592A53046CA06\" class=\"img-responsive\" alt=\"Laughing-Cow-Grey-logo\" width=\"100\" height=\"50\" DisableWebEdit=\"False\" />\\n</a>\\n</div>\\n<div>\\n<a href=\"https://capitolviewnashville.com/ \" target=\"_blank\">\\n<img src=\"/-/media/RnR/Images/Sponsors/Nashville-Sponsors/Capital-View-Logo.jpg?h=50&amp;mh=100&amp;w=50&amp;hash=10D0A23C7EB9FA24EEB5A8E17BBDFB7D\" class=\"img-responsive\" alt=\"Capital-View-Logo\" width=\"50\" height=\"50\" DisableWebEdit=\"False\" />\\n</a>\\n</div>\\n<div>\\n<a href=\"https://www.apple.com/apple-pay/\" target=\"_blank\">\\n<img src=\"/-/media/RnR/Images/Sponsors/Series-Sponsors/Apple-Pay/ApplePay_Logo-grayscale.jpg?h=100&amp;mh=100&amp;w=145&amp;hash=5BEC326FA972ECD71473CFEB343E8296\" class=\"img-responsive\" alt=\"ApplePay_Logo grayscale\" width=\"145\" height=\"100\" DisableWebEdit=\"False\" />\\n</a>\\n</div>\\n</div>\\n</main>\\n<footer class=\"bg-dark\">\\n<div class=\"container\">\\n<div class=\"row\">\\n<div class=\"col-sm-3\">\\n<ul class=\"nav nav-links nav-stacked\">\\n<li>\\n<a href=\"/en/About\" target=\"\" title=\"About\">\\n<span>About</span>\\n</a>\\n</li>\\n<li>\\n<a href=\"/en/Expo-Vendor\" target=\"\" title=\"Expo Vendor\">\\n<span>Expo Vendor</span>\\n</a>\\n</li>\\n<li>\\n<a href=\"/en/Press\" target=\"\" title=\"Press\">\\n<span>Press</span>\\n</a>\\n</li>\\n<li>\\n<a href=\"/en/Results\" target=\"\" title=\"Race Results\">\\n<span>Race Results</span>\\n</a>\\n</li>\\n<li>\\n<a href=\"/en/Partners\" target=\"\" title=\"Partners\">\\n<span>Partners</span>\\n</a>\\n</li>\\n<li>\\n<a href=\"/en/Programs\" target=\"\" title=\"Charity\">\\n<span>Charity</span>\\n</a>\\n</li>\\n<li>\\n<a href=\"/en/Contact\" target=\"\" title=\"Contact\">\\n<span>Contact</span>\\n</a>\\n</li>\\n<li>\\n<a href=\"/en/Contact\" target=\"\" title=\"FAQ\">\\n<span>FAQ</span>\\n</a>\\n</li>\\n<li>\\n<a href=\"/en/Blog\" target=\"\" title=\"Blog\">\\n<span>Blog</span>\\n</a>\\n</li>\\n<li>\\n<a href=\"/en/Programs/Elite-Athletes\" target=\"\" title=\"Elite Athletes\">\\n<span>Elite Athletes</span>\\n</a>\\n</li>\\n</ul>\\n</div>\\n<div class=\"col-sm-3\">\\n<ul class=\"nav nav-links nav-stacked\">\\n<li>\\n<a href=\"/en/Events/Nashville/The-Races/Marathon\" target=\"\" title=\"Marathon\">\\n<span>Marathon</span>\\n</a>\\n</li>\\n<li>\\n<a href=\"/en/Events/Nashville/The-Races/Half-Marathon\" target=\"\" title=\"Half Marathon\">\\n<span>Half Marathon</span>\\n</a>\\n</li>\\n<li>\\n<a href=\"/en/Events/Nashville/The-Races/FAQ\" target=\"\" title=\"FAQ\">\\n<span>FAQ</span>\\n</a>\\n</li>\\n<li>\\n<a href=\"/en/Events/Nashville/The-Races/Road-Closures\" target=\"\" title=\"Road Closures\">\\n<span>Road Closures</span>\\n</a>\\n</li>\\n<li>\\n<a href=\"/en/Events/Nashville/The-Races/Results\" target=\"\" title=\"Results\">\\n<span>Results</span>\\n</a>\\n</li>\\n</ul>\\n</div>\\n<div class=\"col-sm-3\">\\n<ul class=\"nav nav-links nav-stacked\">\\n<li>\\n<a href=\"/en/Events/Nashville/The-Weekend/Everything-RNRNashville\" target=\"\" title=\"Everything #RNRNashville\">\\n <span>Everything #RNRNashville</span>\\n</a>\\n</li>\\n<li>\\n<a href=\"/en/Events/Nashville/The-Weekend/Schedule\" target=\"\" title=\"Schedule\">\\n<span>Schedule</span>\\n</a>\\n</li>\\n<li>\\n<a href=\"/en/Events/Nashville/The-Weekend/Expo\" target=\"\" title=\"Expo\">\\n<span>Expo</span>\\n</a>\\n</li>\\n<li>\\n<a href=\"/en/Events/Nashville/The-Weekend/Runner-Perks\" target=\"\" title=\"Runner Perks\">\\n<span>Runner Perks</span>\\n</a>\\n</li>\\n<li>\\n<a href=\"/en/Events/Nashville/The-Weekend/Travel\" target=\"\" title=\"Travel\">\\n<span>Travel</span>\\n</a>\\n</li>\\n<li>\\n<a href=\"/en/Events/Nashville/The-Weekend/Volunteer\" target=\"\" title=\"Volunteer\">\\n<span>Volunteer</span>\\n</a>\\n</li>\\n</ul>\\n</div>\\n<div class=\"col-sm-3\">\\n<ul class=\"nav nav-links nav-stacked\">\\n<li>\\n<a href=\"/en/Contact\" target=\"\" title=\"Contact\">\\n<span>Contact</span>\\n</a>\\n</li>\\n<li>\\n<a href=\"/en/Contact\" target=\"\" title=\"FAQ\">\\n<span>FAQ</span>\\n</a>\\n</li>\\n<li>\\n<a href=\"https://rtrt.me/app/rnra\" target=\"_blank\" title=\"Download our App\">\\n<span>Download our App</span>\\n</a>\\n</li>\\n<li>\\n<a href=\"https://twitter.com/runrocknroll\" target=\"_blank\" title=\"Twitter\">\\n<span>Twitter</span>\\n</a>\\n</li>\\n<li>\\n<a href=\"https://www.facebook.com/RunRocknRoll\" target=\"_blank\" title=\"Facebook\">\\n<span>Facebook</span>\\n</a>\\n</li>\\n<li>\\n<a href=\"https://www.instagram.com/runrocknroll/\" target=\"_blank\" title=\"Instagram\">\\n<span>Instagram</span>\\n</a>\\n</li>\\n<li>\\n<a href=\"https://www.youtube.com/runrocknroll/\" target=\"_blank\" title=\"Youtube\">\\n<span>Youtube</span>\\n</a>\\n</li>\\n<li>\\n<a href=\"https://www.pinterest.com/runrocknroll/\" target=\"_blank\" title=\"Pinterest\">\\n<span>Pinterest</span>\\n</a>\\n</li>\\n</ul>\\n</div>\\n</div>\\n</div>\\n<a class=\"\" href=\"/en\">\\n<span class=\"logo row\">\\n<img src=\"/-/media/RnR/Images/Logo/RocknRoll_logo.png?h=50&amp;la=en&amp;mh=50&amp;w=270&amp;hash=D273C43160DC6F102327F2C70FC7DB08\" alt=\"Rock n Roll Marathon\" width=\"270\" height=\"50\" DisableWebEdit=\"False\" />\\n</span>\\n</a>\\n<div class=\"footer-bottom text-center\">\\n<div class=\"container\">\\n<div class=\"row\">\\n<div class=\"col-md-12\">\\n<div class=\"collapse navbar-collapse\" id=\"siteNavbar\">\\n<ul class=\"nav nav-service navbar-nav nav-pills\">\\n<li class=\"\">\\n<a href=\"http://content.ironman.com/LP---Rock-N-Roll-Website-Subscribe.html?&amp;utm_source=website&amp;utm_medium=web&amp;utm_campaign=evergreen\" target=\"_blank\" title=\"Subscribe\" class=\"\">\\nSubscribe </a>\\n</li>\\n<li class=\"divider-left\">\\n<a href=\"/en/Privacy-Policy\" target=\"\" title=\"Ad Choices\" class=\"\">\\nAd Choices </a>\\n</li>\\n<li class=\"divider-left\">\\n<a href=\"/en/Do-Not-Sell\" target=\"\" title=\"Do Not Sell\" class=\"\">\\nDo Not Sell </a>\\n</li>\\n<li class=\"divider-left\">\\n<a href=\"/en/Privacy-Policy\" target=\"\" title=\"Privacy Policy\" class=\"\">\\nPrivacy Policy </a>\\n</li>\\n<li class=\"divider-left\">\\n<a href=\"https://www.ironman.com/terms-of-use\" target=\"_blank\" title=\"Terms of Use\" class=\"\">\\nTerms of Use </a>\\n</li>\\n</ul>\\n</div>\\n<small class=\"copyright row\">\\n\\xc2\\xa9 2019 \\xe2\\x80\\x93 Competitor Group, Inc. All Rights Reserved.\\n</small>\\n</div>\\n</div>\\n</div>\\n</div>\\n</footer>\\n</div>\\n<script src=\"/scripts/Events/EventCountdown.js\"></script>\\n<script src=\"/scripts/language/language.js\"></script>\\n<script src=\"/scripts/search/search.js\"></script>\\n<script src=\"//www.atmrum.net/rum.js\"></script>\\n<script>rum.start(\"df965e9d5cc954678e1f0b3288e07300\");</script>\\n</body>\\n</html>'"
      ]
     },
     "execution_count": 5,
     "metadata": {},
     "output_type": "execute_result"
    }
   ],
   "source": [
    "response_16.content"
   ]
  },
  {
   "cell_type": "markdown",
   "metadata": {},
   "source": [
    "marathon_tables_16 = list()\n",
    "x = 1\n",
    "while x < 155:\n",
    "    URL = \"https://www.runrocknroll.com/Events/Nashville/The-Races/Marathon/2016-Results?gender=&agegroup=&bib=&firstname=&lastname=&page={}\".format(x)\n",
    "    response = requests.post(URL_16)\n",
    "    soup = BeautifulSoup(response.content, \"html.parser\")\n",
    "    marathon_table = soup.find(attrs={\"class\": \"race-search-main\"}) \\\n",
    "    .find(\"table\")\n",
    "    marathon_tables_16.append(marathon_table)\n",
    "    x += 1"
   ]
  },
  {
   "cell_type": "code",
   "execution_count": 6,
   "metadata": {},
   "outputs": [],
   "source": [
    "m_2016 = []\n",
    "x = 1\n",
    "while x < 155:\n",
    "  # baseURL = \"https://www.runrocknroll.com/Events/Nashville/The-Races/Marathon/2016-Results\"\n",
    "    URL ='https://www.runrocknroll.com/Events/Nashville/The-Races/Marathon/2016-Results?gender=&agegroup=&bib=&firstname=&lastname=&page={}'.format(x)\n",
    "    response = requests.post(URL)\n",
    "    soup =BeautifulSoup(response.content, \"html.parser\")\n",
    "    m_2016_page = soup.find(attrs = {\"class\": \"race-search-main\"}).find(\"table\")\n",
    "    m_2016_list = pd.read_html(str(m_2016_page))\n",
    "    m_2016_list =  m_2016_list[0]\n",
    "    m_2016.append(m_2016_list)\n",
    "    x += 1"
   ]
  },
  {
   "cell_type": "code",
   "execution_count": 64,
   "metadata": {},
   "outputs": [
    {
     "data": {
      "text/html": [
       "<div>\n",
       "<style scoped>\n",
       "    .dataframe tbody tr th:only-of-type {\n",
       "        vertical-align: middle;\n",
       "    }\n",
       "\n",
       "    .dataframe tbody tr th {\n",
       "        vertical-align: top;\n",
       "    }\n",
       "\n",
       "    .dataframe thead th {\n",
       "        text-align: right;\n",
       "    }\n",
       "</style>\n",
       "<table border=\"1\" class=\"dataframe\">\n",
       "  <thead>\n",
       "    <tr style=\"text-align: right;\">\n",
       "      <th></th>\n",
       "      <th>Overall</th>\n",
       "      <th>Bib</th>\n",
       "      <th>Name</th>\n",
       "      <th>Time</th>\n",
       "    </tr>\n",
       "  </thead>\n",
       "  <tbody>\n",
       "    <tr>\n",
       "      <th>0</th>\n",
       "      <td>1</td>\n",
       "      <td>1</td>\n",
       "      <td>Scott Wietecha</td>\n",
       "      <td>02:25:42</td>\n",
       "    </tr>\n",
       "    <tr>\n",
       "      <th>1</th>\n",
       "      <td>2</td>\n",
       "      <td>3</td>\n",
       "      <td>Brian Shelton</td>\n",
       "      <td>02:34:43</td>\n",
       "    </tr>\n",
       "    <tr>\n",
       "      <th>2</th>\n",
       "      <td>3</td>\n",
       "      <td>1047</td>\n",
       "      <td>Christopher Capps</td>\n",
       "      <td>02:38:43</td>\n",
       "    </tr>\n",
       "    <tr>\n",
       "      <th>3</th>\n",
       "      <td>4</td>\n",
       "      <td>1052</td>\n",
       "      <td>Jason Grimes</td>\n",
       "      <td>02:45:06</td>\n",
       "    </tr>\n",
       "    <tr>\n",
       "      <th>4</th>\n",
       "      <td>5</td>\n",
       "      <td>1046</td>\n",
       "      <td>David Adams</td>\n",
       "      <td>02:47:28</td>\n",
       "    </tr>\n",
       "    <tr>\n",
       "      <th>...</th>\n",
       "      <td>...</td>\n",
       "      <td>...</td>\n",
       "      <td>...</td>\n",
       "      <td>...</td>\n",
       "    </tr>\n",
       "    <tr>\n",
       "      <th>12</th>\n",
       "      <td>99999</td>\n",
       "      <td>21159</td>\n",
       "      <td>Beth Lyons</td>\n",
       "      <td>00:00:00</td>\n",
       "    </tr>\n",
       "    <tr>\n",
       "      <th>13</th>\n",
       "      <td>99999</td>\n",
       "      <td>25061</td>\n",
       "      <td>Aleksei Stevens</td>\n",
       "      <td>00:00:00</td>\n",
       "    </tr>\n",
       "    <tr>\n",
       "      <th>14</th>\n",
       "      <td>99999</td>\n",
       "      <td>6047</td>\n",
       "      <td>Lizzie Ziccardi</td>\n",
       "      <td>00:00:00</td>\n",
       "    </tr>\n",
       "    <tr>\n",
       "      <th>15</th>\n",
       "      <td>99999</td>\n",
       "      <td>2052</td>\n",
       "      <td>Adam Pastors</td>\n",
       "      <td>00:00:00</td>\n",
       "    </tr>\n",
       "    <tr>\n",
       "      <th>16</th>\n",
       "      <td>99999</td>\n",
       "      <td>2107</td>\n",
       "      <td>Anastasiya Christiansen</td>\n",
       "      <td>00:00:00</td>\n",
       "    </tr>\n",
       "  </tbody>\n",
       "</table>\n",
       "<p>3842 rows × 4 columns</p>\n",
       "</div>"
      ],
      "text/plain": [
       "    Overall    Bib                     Name      Time\n",
       "0         1      1           Scott Wietecha  02:25:42\n",
       "1         2      3            Brian Shelton  02:34:43\n",
       "2         3   1047        Christopher Capps  02:38:43\n",
       "3         4   1052             Jason Grimes  02:45:06\n",
       "4         5   1046              David Adams  02:47:28\n",
       "..      ...    ...                      ...       ...\n",
       "12    99999  21159               Beth Lyons  00:00:00\n",
       "13    99999  25061          Aleksei Stevens  00:00:00\n",
       "14    99999   6047          Lizzie Ziccardi  00:00:00\n",
       "15    99999   2052             Adam Pastors  00:00:00\n",
       "16    99999   2107  Anastasiya Christiansen  00:00:00\n",
       "\n",
       "[3842 rows x 4 columns]"
      ]
     },
     "execution_count": 64,
     "metadata": {},
     "output_type": "execute_result"
    }
   ],
   "source": [
    "m_2016_df = pd.concat(m_2016)\n",
    "m_2016_df"
   ]
  },
  {
   "cell_type": "code",
   "execution_count": 8,
   "metadata": {},
   "outputs": [
    {
     "data": {
      "text/plain": [
       "Overall     int64\n",
       "Bib         int64\n",
       "Name       object\n",
       "Time       object\n",
       "dtype: object"
      ]
     },
     "execution_count": 8,
     "metadata": {},
     "output_type": "execute_result"
    }
   ],
   "source": [
    "m_2016_df.dtypes"
   ]
  },
  {
   "cell_type": "code",
   "execution_count": 9,
   "metadata": {},
   "outputs": [
    {
     "data": {
      "text/html": [
       "<div>\n",
       "<style scoped>\n",
       "    .dataframe tbody tr th:only-of-type {\n",
       "        vertical-align: middle;\n",
       "    }\n",
       "\n",
       "    .dataframe tbody tr th {\n",
       "        vertical-align: top;\n",
       "    }\n",
       "\n",
       "    .dataframe thead th {\n",
       "        text-align: right;\n",
       "    }\n",
       "</style>\n",
       "<table border=\"1\" class=\"dataframe\">\n",
       "  <thead>\n",
       "    <tr style=\"text-align: right;\">\n",
       "      <th></th>\n",
       "      <th>Overall</th>\n",
       "      <th>Bib</th>\n",
       "      <th>Name</th>\n",
       "      <th>Time</th>\n",
       "    </tr>\n",
       "  </thead>\n",
       "  <tbody>\n",
       "    <tr>\n",
       "      <th>0</th>\n",
       "      <td>1</td>\n",
       "      <td>1</td>\n",
       "      <td>Scott Wietecha</td>\n",
       "      <td>02:25:42</td>\n",
       "    </tr>\n",
       "    <tr>\n",
       "      <th>1</th>\n",
       "      <td>2</td>\n",
       "      <td>3</td>\n",
       "      <td>Brian Shelton</td>\n",
       "      <td>02:34:43</td>\n",
       "    </tr>\n",
       "    <tr>\n",
       "      <th>2</th>\n",
       "      <td>3</td>\n",
       "      <td>1047</td>\n",
       "      <td>Christopher Capps</td>\n",
       "      <td>02:38:43</td>\n",
       "    </tr>\n",
       "    <tr>\n",
       "      <th>3</th>\n",
       "      <td>4</td>\n",
       "      <td>1052</td>\n",
       "      <td>Jason Grimes</td>\n",
       "      <td>02:45:06</td>\n",
       "    </tr>\n",
       "    <tr>\n",
       "      <th>4</th>\n",
       "      <td>5</td>\n",
       "      <td>1046</td>\n",
       "      <td>David Adams</td>\n",
       "      <td>02:47:28</td>\n",
       "    </tr>\n",
       "  </tbody>\n",
       "</table>\n",
       "</div>"
      ],
      "text/plain": [
       "   Overall   Bib               Name      Time\n",
       "0        1     1     Scott Wietecha  02:25:42\n",
       "1        2     3      Brian Shelton  02:34:43\n",
       "2        3  1047  Christopher Capps  02:38:43\n",
       "3        4  1052       Jason Grimes  02:45:06\n",
       "4        5  1046        David Adams  02:47:28"
      ]
     },
     "execution_count": 9,
     "metadata": {},
     "output_type": "execute_result"
    }
   ],
   "source": [
    "m_2016_df_reset = m_2016_df.reset_index(drop=True)\n",
    "m_2016_df_reset.head()"
   ]
  },
  {
   "cell_type": "code",
   "execution_count": 10,
   "metadata": {},
   "outputs": [
    {
     "data": {
      "text/html": [
       "<div>\n",
       "<style scoped>\n",
       "    .dataframe tbody tr th:only-of-type {\n",
       "        vertical-align: middle;\n",
       "    }\n",
       "\n",
       "    .dataframe tbody tr th {\n",
       "        vertical-align: top;\n",
       "    }\n",
       "\n",
       "    .dataframe thead th {\n",
       "        text-align: right;\n",
       "    }\n",
       "</style>\n",
       "<table border=\"1\" class=\"dataframe\">\n",
       "  <thead>\n",
       "    <tr style=\"text-align: right;\">\n",
       "      <th></th>\n",
       "      <th>Overall</th>\n",
       "      <th>Bib</th>\n",
       "      <th>Name</th>\n",
       "      <th>Time</th>\n",
       "    </tr>\n",
       "  </thead>\n",
       "  <tbody>\n",
       "    <tr>\n",
       "      <th>0</th>\n",
       "      <td>1</td>\n",
       "      <td>1</td>\n",
       "      <td>Scott Wietecha</td>\n",
       "      <td>2020-11-07 02:25:42</td>\n",
       "    </tr>\n",
       "    <tr>\n",
       "      <th>1</th>\n",
       "      <td>2</td>\n",
       "      <td>3</td>\n",
       "      <td>Brian Shelton</td>\n",
       "      <td>2020-11-07 02:34:43</td>\n",
       "    </tr>\n",
       "    <tr>\n",
       "      <th>2</th>\n",
       "      <td>3</td>\n",
       "      <td>1047</td>\n",
       "      <td>Christopher Capps</td>\n",
       "      <td>2020-11-07 02:38:43</td>\n",
       "    </tr>\n",
       "    <tr>\n",
       "      <th>3</th>\n",
       "      <td>4</td>\n",
       "      <td>1052</td>\n",
       "      <td>Jason Grimes</td>\n",
       "      <td>2020-11-07 02:45:06</td>\n",
       "    </tr>\n",
       "    <tr>\n",
       "      <th>4</th>\n",
       "      <td>5</td>\n",
       "      <td>1046</td>\n",
       "      <td>David Adams</td>\n",
       "      <td>2020-11-07 02:47:28</td>\n",
       "    </tr>\n",
       "  </tbody>\n",
       "</table>\n",
       "</div>"
      ],
      "text/plain": [
       "   Overall   Bib               Name                Time\n",
       "0        1     1     Scott Wietecha 2020-11-07 02:25:42\n",
       "1        2     3      Brian Shelton 2020-11-07 02:34:43\n",
       "2        3  1047  Christopher Capps 2020-11-07 02:38:43\n",
       "3        4  1052       Jason Grimes 2020-11-07 02:45:06\n",
       "4        5  1046        David Adams 2020-11-07 02:47:28"
      ]
     },
     "execution_count": 10,
     "metadata": {},
     "output_type": "execute_result"
    }
   ],
   "source": [
    "m_2016_df_reset['Time'] = pd.to_datetime(m_2016_df_reset['Time'])\n",
    "m_2016_df_reset.head()"
   ]
  },
  {
   "cell_type": "code",
   "execution_count": 11,
   "metadata": {},
   "outputs": [
    {
     "data": {
      "text/plain": [
       "Overall             int64\n",
       "Bib                 int64\n",
       "Name               object\n",
       "Time       datetime64[ns]\n",
       "dtype: object"
      ]
     },
     "execution_count": 11,
     "metadata": {},
     "output_type": "execute_result"
    }
   ],
   "source": [
    "m_2016_df_reset.dtypes"
   ]
  },
  {
   "cell_type": "code",
   "execution_count": 12,
   "metadata": {},
   "outputs": [],
   "source": [
    "##m_16_time_only = m_2016_df_reset['Time'] = pd.to_datetime(m_2016_df_reset['Time'], format='%H:%M:%S').dt.time\n",
    "##m_16_time_only.head()"
   ]
  },
  {
   "cell_type": "markdown",
   "metadata": {},
   "source": [
    "### Marathon 16 Mean Time"
   ]
  },
  {
   "cell_type": "code",
   "execution_count": 13,
   "metadata": {},
   "outputs": [
    {
     "name": "stdout",
     "output_type": "stream",
     "text": [
      "2020-11-07 03:43:09.756592640\n"
     ]
    }
   ],
   "source": [
    "print(m_2016_df_reset['Time'].mean())"
   ]
  },
  {
   "cell_type": "markdown",
   "metadata": {},
   "source": [
    "### Marathon 16 Fastest Time"
   ]
  },
  {
   "cell_type": "code",
   "execution_count": 14,
   "metadata": {},
   "outputs": [
    {
     "name": "stdout",
     "output_type": "stream",
     "text": [
      "2020-11-07 00:00:00\n"
     ]
    }
   ],
   "source": [
    "print(m_2016_df_reset['Time'].min())\n"
   ]
  },
  {
   "cell_type": "markdown",
   "metadata": {},
   "source": [
    "### Marathon 16 Slowest Time"
   ]
  },
  {
   "cell_type": "code",
   "execution_count": 15,
   "metadata": {},
   "outputs": [
    {
     "name": "stdout",
     "output_type": "stream",
     "text": [
      "2020-11-07 07:00:00\n"
     ]
    }
   ],
   "source": [
    "print(m_2016_df_reset['Time'].max())"
   ]
  },
  {
   "cell_type": "code",
   "execution_count": null,
   "metadata": {},
   "outputs": [],
   "source": [
    "m_2016_df_reset['Time']."
   ]
  },
  {
   "cell_type": "code",
   "execution_count": 60,
   "metadata": {},
   "outputs": [
    {
     "data": {
      "text/html": [
       "<div>\n",
       "<style scoped>\n",
       "    .dataframe tbody tr th:only-of-type {\n",
       "        vertical-align: middle;\n",
       "    }\n",
       "\n",
       "    .dataframe tbody tr th {\n",
       "        vertical-align: top;\n",
       "    }\n",
       "\n",
       "    .dataframe thead th {\n",
       "        text-align: right;\n",
       "    }\n",
       "</style>\n",
       "<table border=\"1\" class=\"dataframe\">\n",
       "  <thead>\n",
       "    <tr style=\"text-align: right;\">\n",
       "      <th></th>\n",
       "      <th>Overall</th>\n",
       "      <th>Bib</th>\n",
       "      <th>Name</th>\n",
       "      <th>Time</th>\n",
       "    </tr>\n",
       "  </thead>\n",
       "  <tbody>\n",
       "    <tr>\n",
       "      <th>2952</th>\n",
       "      <td>99999</td>\n",
       "      <td>27326</td>\n",
       "      <td>Ashley Newton</td>\n",
       "      <td>2020-11-07</td>\n",
       "    </tr>\n",
       "    <tr>\n",
       "      <th>2953</th>\n",
       "      <td>99999</td>\n",
       "      <td>2031</td>\n",
       "      <td>Thomas Sirna</td>\n",
       "      <td>2020-11-07</td>\n",
       "    </tr>\n",
       "    <tr>\n",
       "      <th>2954</th>\n",
       "      <td>99999</td>\n",
       "      <td>4027</td>\n",
       "      <td>Sulaiman Seriki</td>\n",
       "      <td>2020-11-07</td>\n",
       "    </tr>\n",
       "    <tr>\n",
       "      <th>2955</th>\n",
       "      <td>99999</td>\n",
       "      <td>17252</td>\n",
       "      <td>Carol Mulderink</td>\n",
       "      <td>2020-11-07</td>\n",
       "    </tr>\n",
       "    <tr>\n",
       "      <th>2956</th>\n",
       "      <td>99999</td>\n",
       "      <td>27291</td>\n",
       "      <td>Mark Warf</td>\n",
       "      <td>2020-11-07</td>\n",
       "    </tr>\n",
       "    <tr>\n",
       "      <th>...</th>\n",
       "      <td>...</td>\n",
       "      <td>...</td>\n",
       "      <td>...</td>\n",
       "      <td>...</td>\n",
       "    </tr>\n",
       "    <tr>\n",
       "      <th>3048</th>\n",
       "      <td>99999</td>\n",
       "      <td>11015</td>\n",
       "      <td>Kevin West</td>\n",
       "      <td>2020-11-07</td>\n",
       "    </tr>\n",
       "    <tr>\n",
       "      <th>3049</th>\n",
       "      <td>99999</td>\n",
       "      <td>2108</td>\n",
       "      <td>Jamee Holmes</td>\n",
       "      <td>2020-11-07</td>\n",
       "    </tr>\n",
       "    <tr>\n",
       "      <th>3050</th>\n",
       "      <td>99999</td>\n",
       "      <td>27292</td>\n",
       "      <td>Regan Mcgril</td>\n",
       "      <td>2020-11-07</td>\n",
       "    </tr>\n",
       "    <tr>\n",
       "      <th>3051</th>\n",
       "      <td>99999</td>\n",
       "      <td>27311</td>\n",
       "      <td>William Fluharty</td>\n",
       "      <td>2020-11-07</td>\n",
       "    </tr>\n",
       "    <tr>\n",
       "      <th>3052</th>\n",
       "      <td>99999</td>\n",
       "      <td>2028</td>\n",
       "      <td>Chad Smith</td>\n",
       "      <td>2020-11-07</td>\n",
       "    </tr>\n",
       "  </tbody>\n",
       "</table>\n",
       "<p>100 rows × 4 columns</p>\n",
       "</div>"
      ],
      "text/plain": [
       "      Overall    Bib              Name       Time\n",
       "2952    99999  27326     Ashley Newton 2020-11-07\n",
       "2953    99999   2031      Thomas Sirna 2020-11-07\n",
       "2954    99999   4027   Sulaiman Seriki 2020-11-07\n",
       "2955    99999  17252   Carol Mulderink 2020-11-07\n",
       "2956    99999  27291         Mark Warf 2020-11-07\n",
       "...       ...    ...               ...        ...\n",
       "3048    99999  11015        Kevin West 2020-11-07\n",
       "3049    99999   2108      Jamee Holmes 2020-11-07\n",
       "3050    99999  27292      Regan Mcgril 2020-11-07\n",
       "3051    99999  27311  William Fluharty 2020-11-07\n",
       "3052    99999   2028        Chad Smith 2020-11-07\n",
       "\n",
       "[100 rows x 4 columns]"
      ]
     },
     "execution_count": 60,
     "metadata": {},
     "output_type": "execute_result"
    }
   ],
   "source": [
    "times_999 = m_2016_df_reset.nsmallest(100, 'Time') \n",
    "times_999"
   ]
  },
  {
   "cell_type": "code",
   "execution_count": 66,
   "metadata": {},
   "outputs": [
    {
     "data": {
      "text/plain": [
       "99999    890\n",
       "2047       1\n",
       "1050       1\n",
       "1066       1\n",
       "1064       1\n",
       "        ... \n",
       "2536       1\n",
       "487        1\n",
       "2534       1\n",
       "485        1\n",
       "2049       1\n",
       "Name: Overall, Length: 2953, dtype: int64"
      ]
     },
     "execution_count": 66,
     "metadata": {},
     "output_type": "execute_result"
    }
   ],
   "source": [
    "did_not_finish_counts = m_2016_df_reset[\"Overall\"].value_counts()\n",
    "did_not_finish_counts"
   ]
  },
  {
   "cell_type": "code",
   "execution_count": 63,
   "metadata": {},
   "outputs": [
    {
     "data": {
      "text/html": [
       "<div>\n",
       "<style scoped>\n",
       "    .dataframe tbody tr th:only-of-type {\n",
       "        vertical-align: middle;\n",
       "    }\n",
       "\n",
       "    .dataframe tbody tr th {\n",
       "        vertical-align: top;\n",
       "    }\n",
       "\n",
       "    .dataframe thead th {\n",
       "        text-align: right;\n",
       "    }\n",
       "</style>\n",
       "<table border=\"1\" class=\"dataframe\">\n",
       "  <thead>\n",
       "    <tr style=\"text-align: right;\">\n",
       "      <th></th>\n",
       "      <th>Overall</th>\n",
       "      <th>Bib</th>\n",
       "      <th>Name</th>\n",
       "      <th>Time</th>\n",
       "    </tr>\n",
       "  </thead>\n",
       "  <tbody>\n",
       "    <tr>\n",
       "      <th>2952</th>\n",
       "      <td>99999</td>\n",
       "      <td>27326</td>\n",
       "      <td>Ashley Newton</td>\n",
       "      <td>2020-11-07</td>\n",
       "    </tr>\n",
       "    <tr>\n",
       "      <th>2953</th>\n",
       "      <td>99999</td>\n",
       "      <td>2031</td>\n",
       "      <td>Thomas Sirna</td>\n",
       "      <td>2020-11-07</td>\n",
       "    </tr>\n",
       "    <tr>\n",
       "      <th>2954</th>\n",
       "      <td>99999</td>\n",
       "      <td>4027</td>\n",
       "      <td>Sulaiman Seriki</td>\n",
       "      <td>2020-11-07</td>\n",
       "    </tr>\n",
       "    <tr>\n",
       "      <th>2955</th>\n",
       "      <td>99999</td>\n",
       "      <td>17252</td>\n",
       "      <td>Carol Mulderink</td>\n",
       "      <td>2020-11-07</td>\n",
       "    </tr>\n",
       "    <tr>\n",
       "      <th>2956</th>\n",
       "      <td>99999</td>\n",
       "      <td>27291</td>\n",
       "      <td>Mark Warf</td>\n",
       "      <td>2020-11-07</td>\n",
       "    </tr>\n",
       "    <tr>\n",
       "      <th>...</th>\n",
       "      <td>...</td>\n",
       "      <td>...</td>\n",
       "      <td>...</td>\n",
       "      <td>...</td>\n",
       "    </tr>\n",
       "    <tr>\n",
       "      <th>3837</th>\n",
       "      <td>99999</td>\n",
       "      <td>21159</td>\n",
       "      <td>Beth Lyons</td>\n",
       "      <td>2020-11-07</td>\n",
       "    </tr>\n",
       "    <tr>\n",
       "      <th>3838</th>\n",
       "      <td>99999</td>\n",
       "      <td>25061</td>\n",
       "      <td>Aleksei Stevens</td>\n",
       "      <td>2020-11-07</td>\n",
       "    </tr>\n",
       "    <tr>\n",
       "      <th>3839</th>\n",
       "      <td>99999</td>\n",
       "      <td>6047</td>\n",
       "      <td>Lizzie Ziccardi</td>\n",
       "      <td>2020-11-07</td>\n",
       "    </tr>\n",
       "    <tr>\n",
       "      <th>3840</th>\n",
       "      <td>99999</td>\n",
       "      <td>2052</td>\n",
       "      <td>Adam Pastors</td>\n",
       "      <td>2020-11-07</td>\n",
       "    </tr>\n",
       "    <tr>\n",
       "      <th>3841</th>\n",
       "      <td>99999</td>\n",
       "      <td>2107</td>\n",
       "      <td>Anastasiya Christiansen</td>\n",
       "      <td>2020-11-07</td>\n",
       "    </tr>\n",
       "  </tbody>\n",
       "</table>\n",
       "<p>890 rows × 4 columns</p>\n",
       "</div>"
      ],
      "text/plain": [
       "      Overall    Bib                     Name       Time\n",
       "2952    99999  27326            Ashley Newton 2020-11-07\n",
       "2953    99999   2031             Thomas Sirna 2020-11-07\n",
       "2954    99999   4027          Sulaiman Seriki 2020-11-07\n",
       "2955    99999  17252          Carol Mulderink 2020-11-07\n",
       "2956    99999  27291                Mark Warf 2020-11-07\n",
       "...       ...    ...                      ...        ...\n",
       "3837    99999  21159               Beth Lyons 2020-11-07\n",
       "3838    99999  25061          Aleksei Stevens 2020-11-07\n",
       "3839    99999   6047          Lizzie Ziccardi 2020-11-07\n",
       "3840    99999   2052             Adam Pastors 2020-11-07\n",
       "3841    99999   2107  Anastasiya Christiansen 2020-11-07\n",
       "\n",
       "[890 rows x 4 columns]"
      ]
     },
     "execution_count": 63,
     "metadata": {},
     "output_type": "execute_result"
    }
   ],
   "source": [
    "count_99999 = m_2016_df_reset[m_2016_df_reset.Overall.isin(['99999'])]\n",
    "count_99999"
   ]
  },
  {
   "cell_type": "code",
   "execution_count": 54,
   "metadata": {},
   "outputs": [],
   "source": [
    "###sns.pairplot(m_2016_df_reset)\n",
    "##plt.show()"
   ]
  },
  {
   "cell_type": "code",
   "execution_count": 52,
   "metadata": {},
   "outputs": [
    {
     "data": {
      "image/png": "[encoded data removed]",
      "text/plain": [
       "<Figure size 432x288 with 1 Axes>"
      ]
     },
     "metadata": {
      "needs_background": "light"
     },
     "output_type": "display_data"
    }
   ],
   "source": [
    "m_2016_df_reset.plot (x=\"Time\",\n",
    "            y=\"Overall\",\n",
    "            kind=\"bar\")\n",
    "plt.title('Marathon 2016 Time Chart')\n",
    "plt\n",
    "plt.show()"
   ]
  },
  {
   "cell_type": "code",
   "execution_count": 18,
   "metadata": {},
   "outputs": [],
   "source": [
    "#marathon_16_df[1]"
   ]
  },
  {
   "cell_type": "code",
   "execution_count": 19,
   "metadata": {},
   "outputs": [],
   "source": [
    "URL_17 = \"https://www.runrocknroll.com/en/Events/Nashville/The-Races/Marathon/2017-Results\"\n",
    "URL_18 = \"https://www.runrocknroll.com/en/Events/Nashville/The-Races/Marathon/2018-Results\"\n",
    "URL_19 = \"https://www.runrocknroll.com/en/Events/Nashville/The-Races/Marathon/2019-Results\""
   ]
  },
  {
   "cell_type": "code",
   "execution_count": 20,
   "metadata": {},
   "outputs": [
    {
     "data": {
      "text/plain": [
       "200"
      ]
     },
     "execution_count": 20,
     "metadata": {},
     "output_type": "execute_result"
    }
   ],
   "source": [
    "response_17 = requests.post(URL_17)\n",
    "response_17.status_code\n",
    "\n",
    "response_18 = requests.post(URL_18)\n",
    "response_18.status_code\n",
    "\n",
    "response_19 = requests.post(URL_19)\n",
    "response_19.status_code"
   ]
  },
  {
   "cell_type": "code",
   "execution_count": 21,
   "metadata": {},
   "outputs": [],
   "source": [
    "marathon_tables_17 = list()\n",
    "x = 1\n",
    "while x < 148:\n",
    "    URL = \"https://www.runrocknroll.com/Events/Nashville/The-Races/Marathon/2017-Results?gender=&agegroup=&bib=&firstname=&lastname=&page={}\".format(x)\n",
    "    response = requests.post(URL_17)\n",
    "    soup = BeautifulSoup(response.content, \"html.parser\")\n",
    "    marathon_table = soup.find(attrs={\"class\": \"race-search-main\"}) \\\n",
    "    .find(\"table\")\n",
    "    marathon_tables_17.append(marathon_table)\n",
    "    x += 1\n",
    "    \n",
    "marathon_tables_18 = list()\n",
    "x = 1\n",
    "while x < 86:\n",
    "    URL = \"https://www.runrocknroll.com/Events/Nashville/The-Races/Marathon/2018-Results?gender=&agegroup=&bib=&firstname=&lastname=&page={}\".format(x)\n",
    "    response = requests.post(URL_18)\n",
    "    soup = BeautifulSoup(response.content, \"html.parser\")\n",
    "    marathon_table = soup.find(attrs={\"class\": \"race-search-main\"}) \\\n",
    "    .find(\"table\")\n",
    "    marathon_tables_18.append(marathon_table)\n",
    "    x += 1\n",
    "    \n",
    "marathon_tables_19 = list()\n",
    "x = 1\n",
    "while x < 114:\n",
    "    URL = \"https://www.runrocknroll.com/Events/Nashville/The-Races/Marathon/2019-Results?gender=&agegroup=&bib=&firstname=&lastname=&page={}\".format(x)\n",
    "    response = requests.post(URL_19)\n",
    "    soup = BeautifulSoup(response.content, \"html.parser\")\n",
    "    marathon_table = soup.find(attrs={\"class\": \"race-search-main\"}) \\\n",
    "    .find(\"table\")\n",
    "    marathon_tables_19.append(marathon_table)\n",
    "    x += 1\n",
    "    \n",
    "    "
   ]
  },
  {
   "cell_type": "code",
   "execution_count": 22,
   "metadata": {},
   "outputs": [],
   "source": [
    "marathon_17_df = pd.read_html(str(marathon_tables_17))"
   ]
  },
  {
   "cell_type": "code",
   "execution_count": 23,
   "metadata": {},
   "outputs": [
    {
     "data": {
      "text/html": [
       "<div>\n",
       "<style scoped>\n",
       "    .dataframe tbody tr th:only-of-type {\n",
       "        vertical-align: middle;\n",
       "    }\n",
       "\n",
       "    .dataframe tbody tr th {\n",
       "        vertical-align: top;\n",
       "    }\n",
       "\n",
       "    .dataframe thead th {\n",
       "        text-align: right;\n",
       "    }\n",
       "</style>\n",
       "<table border=\"1\" class=\"dataframe\">\n",
       "  <thead>\n",
       "    <tr style=\"text-align: right;\">\n",
       "      <th></th>\n",
       "      <th>Overall</th>\n",
       "      <th>Bib</th>\n",
       "      <th>Name</th>\n",
       "      <th>Time</th>\n",
       "    </tr>\n",
       "  </thead>\n",
       "  <tbody>\n",
       "    <tr>\n",
       "      <th>0</th>\n",
       "      <td>1</td>\n",
       "      <td>1</td>\n",
       "      <td>Scott Wietecha</td>\n",
       "      <td>02:40:25</td>\n",
       "    </tr>\n",
       "    <tr>\n",
       "      <th>1</th>\n",
       "      <td>2</td>\n",
       "      <td>1145</td>\n",
       "      <td>Ryan Regnier</td>\n",
       "      <td>02:56:28</td>\n",
       "    </tr>\n",
       "    <tr>\n",
       "      <th>2</th>\n",
       "      <td>3</td>\n",
       "      <td>1147</td>\n",
       "      <td>Daniel Everett</td>\n",
       "      <td>03:00:55</td>\n",
       "    </tr>\n",
       "    <tr>\n",
       "      <th>3</th>\n",
       "      <td>4</td>\n",
       "      <td>1029</td>\n",
       "      <td>Khris Vickroy</td>\n",
       "      <td>03:04:47</td>\n",
       "    </tr>\n",
       "    <tr>\n",
       "      <th>4</th>\n",
       "      <td>5</td>\n",
       "      <td>1119</td>\n",
       "      <td>Marcus Dilallo</td>\n",
       "      <td>03:04:53</td>\n",
       "    </tr>\n",
       "  </tbody>\n",
       "</table>\n",
       "</div>"
      ],
      "text/plain": [
       "   Overall   Bib            Name      Time\n",
       "0        1     1  Scott Wietecha  02:40:25\n",
       "1        2  1145    Ryan Regnier  02:56:28\n",
       "2        3  1147  Daniel Everett  03:00:55\n",
       "3        4  1029   Khris Vickroy  03:04:47\n",
       "4        5  1119  Marcus Dilallo  03:04:53"
      ]
     },
     "execution_count": 23,
     "metadata": {},
     "output_type": "execute_result"
    }
   ],
   "source": [
    "marathon_17_df_merged = pd.concat(marathon_17_df)\n",
    "marathon_17_df_merged.head()"
   ]
  },
  {
   "cell_type": "code",
   "execution_count": 24,
   "metadata": {},
   "outputs": [],
   "source": [
    "marathon_17_df_merged_reset = marathon_17_df_merged.reset_index()"
   ]
  },
  {
   "cell_type": "code",
   "execution_count": 25,
   "metadata": {},
   "outputs": [
    {
     "data": {
      "text/html": [
       "<div>\n",
       "<style scoped>\n",
       "    .dataframe tbody tr th:only-of-type {\n",
       "        vertical-align: middle;\n",
       "    }\n",
       "\n",
       "    .dataframe tbody tr th {\n",
       "        vertical-align: top;\n",
       "    }\n",
       "\n",
       "    .dataframe thead th {\n",
       "        text-align: right;\n",
       "    }\n",
       "</style>\n",
       "<table border=\"1\" class=\"dataframe\">\n",
       "  <thead>\n",
       "    <tr style=\"text-align: right;\">\n",
       "      <th></th>\n",
       "      <th>index</th>\n",
       "      <th>Overall</th>\n",
       "      <th>Bib</th>\n",
       "      <th>Name</th>\n",
       "      <th>Time</th>\n",
       "    </tr>\n",
       "  </thead>\n",
       "  <tbody>\n",
       "    <tr>\n",
       "      <th>0</th>\n",
       "      <td>0</td>\n",
       "      <td>1</td>\n",
       "      <td>1</td>\n",
       "      <td>Scott Wietecha</td>\n",
       "      <td>2020-11-07 02:40:25</td>\n",
       "    </tr>\n",
       "    <tr>\n",
       "      <th>1</th>\n",
       "      <td>1</td>\n",
       "      <td>2</td>\n",
       "      <td>1145</td>\n",
       "      <td>Ryan Regnier</td>\n",
       "      <td>2020-11-07 02:56:28</td>\n",
       "    </tr>\n",
       "    <tr>\n",
       "      <th>2</th>\n",
       "      <td>2</td>\n",
       "      <td>3</td>\n",
       "      <td>1147</td>\n",
       "      <td>Daniel Everett</td>\n",
       "      <td>2020-11-07 03:00:55</td>\n",
       "    </tr>\n",
       "    <tr>\n",
       "      <th>3</th>\n",
       "      <td>3</td>\n",
       "      <td>4</td>\n",
       "      <td>1029</td>\n",
       "      <td>Khris Vickroy</td>\n",
       "      <td>2020-11-07 03:04:47</td>\n",
       "    </tr>\n",
       "    <tr>\n",
       "      <th>4</th>\n",
       "      <td>4</td>\n",
       "      <td>5</td>\n",
       "      <td>1119</td>\n",
       "      <td>Marcus Dilallo</td>\n",
       "      <td>2020-11-07 03:04:53</td>\n",
       "    </tr>\n",
       "  </tbody>\n",
       "</table>\n",
       "</div>"
      ],
      "text/plain": [
       "   index  Overall   Bib            Name                Time\n",
       "0      0        1     1  Scott Wietecha 2020-11-07 02:40:25\n",
       "1      1        2  1145    Ryan Regnier 2020-11-07 02:56:28\n",
       "2      2        3  1147  Daniel Everett 2020-11-07 03:00:55\n",
       "3      3        4  1029   Khris Vickroy 2020-11-07 03:04:47\n",
       "4      4        5  1119  Marcus Dilallo 2020-11-07 03:04:53"
      ]
     },
     "execution_count": 25,
     "metadata": {},
     "output_type": "execute_result"
    }
   ],
   "source": [
    "marathon_17_df_merged_reset['Time'] = pd.to_datetime(marathon_17_df_merged_reset['Time'], dayfirst = False)\n",
    "marathon_17_df_merged_reset.head()"
   ]
  },
  {
   "cell_type": "code",
   "execution_count": 26,
   "metadata": {},
   "outputs": [],
   "source": [
    "marathon_18_df = pd.read_html(str(marathon_tables_18))"
   ]
  },
  {
   "cell_type": "code",
   "execution_count": 27,
   "metadata": {},
   "outputs": [
    {
     "data": {
      "text/html": [
       "<div>\n",
       "<style scoped>\n",
       "    .dataframe tbody tr th:only-of-type {\n",
       "        vertical-align: middle;\n",
       "    }\n",
       "\n",
       "    .dataframe tbody tr th {\n",
       "        vertical-align: top;\n",
       "    }\n",
       "\n",
       "    .dataframe thead th {\n",
       "        text-align: right;\n",
       "    }\n",
       "</style>\n",
       "<table border=\"1\" class=\"dataframe\">\n",
       "  <thead>\n",
       "    <tr style=\"text-align: right;\">\n",
       "      <th></th>\n",
       "      <th>Overall</th>\n",
       "      <th>Bib</th>\n",
       "      <th>Name</th>\n",
       "      <th>Time</th>\n",
       "    </tr>\n",
       "  </thead>\n",
       "  <tbody>\n",
       "    <tr>\n",
       "      <th>0</th>\n",
       "      <td>1</td>\n",
       "      <td>1</td>\n",
       "      <td>Scott Wietecha</td>\n",
       "      <td>02:28:16</td>\n",
       "    </tr>\n",
       "    <tr>\n",
       "      <th>1</th>\n",
       "      <td>2</td>\n",
       "      <td>3</td>\n",
       "      <td>Garang Madut</td>\n",
       "      <td>02:29:52</td>\n",
       "    </tr>\n",
       "    <tr>\n",
       "      <th>2</th>\n",
       "      <td>3</td>\n",
       "      <td>33442</td>\n",
       "      <td>Kevin Fink</td>\n",
       "      <td>02:38:59</td>\n",
       "    </tr>\n",
       "    <tr>\n",
       "      <th>3</th>\n",
       "      <td>4</td>\n",
       "      <td>33441</td>\n",
       "      <td>Andrew Hodges</td>\n",
       "      <td>02:43:59</td>\n",
       "    </tr>\n",
       "    <tr>\n",
       "      <th>4</th>\n",
       "      <td>5</td>\n",
       "      <td>30028</td>\n",
       "      <td>Nicholas Aubert</td>\n",
       "      <td>02:48:11</td>\n",
       "    </tr>\n",
       "  </tbody>\n",
       "</table>\n",
       "</div>"
      ],
      "text/plain": [
       "   Overall    Bib             Name      Time\n",
       "0        1      1   Scott Wietecha  02:28:16\n",
       "1        2      3     Garang Madut  02:29:52\n",
       "2        3  33442       Kevin Fink  02:38:59\n",
       "3        4  33441    Andrew Hodges  02:43:59\n",
       "4        5  30028  Nicholas Aubert  02:48:11"
      ]
     },
     "execution_count": 27,
     "metadata": {},
     "output_type": "execute_result"
    }
   ],
   "source": [
    "marathon_18_df_merged = pd.concat(marathon_18_df)\n",
    "marathon_18_df_merged.head()"
   ]
  },
  {
   "cell_type": "code",
   "execution_count": 28,
   "metadata": {},
   "outputs": [],
   "source": [
    "marathon_18_df_merged_reset = marathon_18_df_merged.reset_index()"
   ]
  },
  {
   "cell_type": "code",
   "execution_count": 29,
   "metadata": {},
   "outputs": [
    {
     "data": {
      "text/html": [
       "<div>\n",
       "<style scoped>\n",
       "    .dataframe tbody tr th:only-of-type {\n",
       "        vertical-align: middle;\n",
       "    }\n",
       "\n",
       "    .dataframe tbody tr th {\n",
       "        vertical-align: top;\n",
       "    }\n",
       "\n",
       "    .dataframe thead th {\n",
       "        text-align: right;\n",
       "    }\n",
       "</style>\n",
       "<table border=\"1\" class=\"dataframe\">\n",
       "  <thead>\n",
       "    <tr style=\"text-align: right;\">\n",
       "      <th></th>\n",
       "      <th>index</th>\n",
       "      <th>Overall</th>\n",
       "      <th>Bib</th>\n",
       "      <th>Name</th>\n",
       "      <th>Time</th>\n",
       "    </tr>\n",
       "  </thead>\n",
       "  <tbody>\n",
       "    <tr>\n",
       "      <th>0</th>\n",
       "      <td>0</td>\n",
       "      <td>1</td>\n",
       "      <td>1</td>\n",
       "      <td>Scott Wietecha</td>\n",
       "      <td>2020-11-07 02:28:16</td>\n",
       "    </tr>\n",
       "    <tr>\n",
       "      <th>1</th>\n",
       "      <td>1</td>\n",
       "      <td>2</td>\n",
       "      <td>3</td>\n",
       "      <td>Garang Madut</td>\n",
       "      <td>2020-11-07 02:29:52</td>\n",
       "    </tr>\n",
       "    <tr>\n",
       "      <th>2</th>\n",
       "      <td>2</td>\n",
       "      <td>3</td>\n",
       "      <td>33442</td>\n",
       "      <td>Kevin Fink</td>\n",
       "      <td>2020-11-07 02:38:59</td>\n",
       "    </tr>\n",
       "    <tr>\n",
       "      <th>3</th>\n",
       "      <td>3</td>\n",
       "      <td>4</td>\n",
       "      <td>33441</td>\n",
       "      <td>Andrew Hodges</td>\n",
       "      <td>2020-11-07 02:43:59</td>\n",
       "    </tr>\n",
       "    <tr>\n",
       "      <th>4</th>\n",
       "      <td>4</td>\n",
       "      <td>5</td>\n",
       "      <td>30028</td>\n",
       "      <td>Nicholas Aubert</td>\n",
       "      <td>2020-11-07 02:48:11</td>\n",
       "    </tr>\n",
       "  </tbody>\n",
       "</table>\n",
       "</div>"
      ],
      "text/plain": [
       "   index  Overall    Bib             Name                Time\n",
       "0      0        1      1   Scott Wietecha 2020-11-07 02:28:16\n",
       "1      1        2      3     Garang Madut 2020-11-07 02:29:52\n",
       "2      2        3  33442       Kevin Fink 2020-11-07 02:38:59\n",
       "3      3        4  33441    Andrew Hodges 2020-11-07 02:43:59\n",
       "4      4        5  30028  Nicholas Aubert 2020-11-07 02:48:11"
      ]
     },
     "execution_count": 29,
     "metadata": {},
     "output_type": "execute_result"
    }
   ],
   "source": [
    "marathon_18_df_merged_reset['Time'] = pd.to_datetime(marathon_18_df_merged_reset['Time'], dayfirst = False)\n",
    "marathon_18_df_merged_reset.head()"
   ]
  },
  {
   "cell_type": "code",
   "execution_count": 30,
   "metadata": {},
   "outputs": [],
   "source": [
    "marathon_19_df = pd.read_html(str(marathon_tables_19))"
   ]
  },
  {
   "cell_type": "code",
   "execution_count": 31,
   "metadata": {},
   "outputs": [
    {
     "data": {
      "text/html": [
       "<div>\n",
       "<style scoped>\n",
       "    .dataframe tbody tr th:only-of-type {\n",
       "        vertical-align: middle;\n",
       "    }\n",
       "\n",
       "    .dataframe tbody tr th {\n",
       "        vertical-align: top;\n",
       "    }\n",
       "\n",
       "    .dataframe thead th {\n",
       "        text-align: right;\n",
       "    }\n",
       "</style>\n",
       "<table border=\"1\" class=\"dataframe\">\n",
       "  <thead>\n",
       "    <tr style=\"text-align: right;\">\n",
       "      <th></th>\n",
       "      <th>Overall</th>\n",
       "      <th>Bib</th>\n",
       "      <th>Name</th>\n",
       "      <th>Time</th>\n",
       "    </tr>\n",
       "  </thead>\n",
       "  <tbody>\n",
       "    <tr>\n",
       "      <th>0</th>\n",
       "      <td>1</td>\n",
       "      <td>30001</td>\n",
       "      <td>Travis Peruski</td>\n",
       "      <td>01:37:54</td>\n",
       "    </tr>\n",
       "    <tr>\n",
       "      <th>1</th>\n",
       "      <td>2</td>\n",
       "      <td>1</td>\n",
       "      <td>Scott Wietecha</td>\n",
       "      <td>02:34:59</td>\n",
       "    </tr>\n",
       "    <tr>\n",
       "      <th>2</th>\n",
       "      <td>3</td>\n",
       "      <td>4</td>\n",
       "      <td>Jordan Wilson</td>\n",
       "      <td>02:35:24</td>\n",
       "    </tr>\n",
       "    <tr>\n",
       "      <th>3</th>\n",
       "      <td>4</td>\n",
       "      <td>30034</td>\n",
       "      <td>Steelton Flynn</td>\n",
       "      <td>02:39:59</td>\n",
       "    </tr>\n",
       "    <tr>\n",
       "      <th>4</th>\n",
       "      <td>5</td>\n",
       "      <td>30035</td>\n",
       "      <td>Thomas Ellis</td>\n",
       "      <td>02:42:09</td>\n",
       "    </tr>\n",
       "  </tbody>\n",
       "</table>\n",
       "</div>"
      ],
      "text/plain": [
       "   Overall    Bib            Name      Time\n",
       "0        1  30001  Travis Peruski  01:37:54\n",
       "1        2      1  Scott Wietecha  02:34:59\n",
       "2        3      4   Jordan Wilson  02:35:24\n",
       "3        4  30034  Steelton Flynn  02:39:59\n",
       "4        5  30035    Thomas Ellis  02:42:09"
      ]
     },
     "execution_count": 31,
     "metadata": {},
     "output_type": "execute_result"
    }
   ],
   "source": [
    "marathon_19_df_merged = pd.concat(marathon_19_df)\n",
    "marathon_19_df_merged.head()"
   ]
  },
  {
   "cell_type": "code",
   "execution_count": 32,
   "metadata": {},
   "outputs": [],
   "source": [
    "marathon_19_df_merged_reset = marathon_19_df_merged.reset_index()"
   ]
  },
  {
   "cell_type": "code",
   "execution_count": 33,
   "metadata": {},
   "outputs": [
    {
     "data": {
      "text/html": [
       "<div>\n",
       "<style scoped>\n",
       "    .dataframe tbody tr th:only-of-type {\n",
       "        vertical-align: middle;\n",
       "    }\n",
       "\n",
       "    .dataframe tbody tr th {\n",
       "        vertical-align: top;\n",
       "    }\n",
       "\n",
       "    .dataframe thead th {\n",
       "        text-align: right;\n",
       "    }\n",
       "</style>\n",
       "<table border=\"1\" class=\"dataframe\">\n",
       "  <thead>\n",
       "    <tr style=\"text-align: right;\">\n",
       "      <th></th>\n",
       "      <th>index</th>\n",
       "      <th>Overall</th>\n",
       "      <th>Bib</th>\n",
       "      <th>Name</th>\n",
       "      <th>Time</th>\n",
       "    </tr>\n",
       "  </thead>\n",
       "  <tbody>\n",
       "    <tr>\n",
       "      <th>0</th>\n",
       "      <td>0</td>\n",
       "      <td>1</td>\n",
       "      <td>30001</td>\n",
       "      <td>Travis Peruski</td>\n",
       "      <td>2020-11-07 01:37:54</td>\n",
       "    </tr>\n",
       "    <tr>\n",
       "      <th>1</th>\n",
       "      <td>1</td>\n",
       "      <td>2</td>\n",
       "      <td>1</td>\n",
       "      <td>Scott Wietecha</td>\n",
       "      <td>2020-11-07 02:34:59</td>\n",
       "    </tr>\n",
       "    <tr>\n",
       "      <th>2</th>\n",
       "      <td>2</td>\n",
       "      <td>3</td>\n",
       "      <td>4</td>\n",
       "      <td>Jordan Wilson</td>\n",
       "      <td>2020-11-07 02:35:24</td>\n",
       "    </tr>\n",
       "    <tr>\n",
       "      <th>3</th>\n",
       "      <td>3</td>\n",
       "      <td>4</td>\n",
       "      <td>30034</td>\n",
       "      <td>Steelton Flynn</td>\n",
       "      <td>2020-11-07 02:39:59</td>\n",
       "    </tr>\n",
       "    <tr>\n",
       "      <th>4</th>\n",
       "      <td>4</td>\n",
       "      <td>5</td>\n",
       "      <td>30035</td>\n",
       "      <td>Thomas Ellis</td>\n",
       "      <td>2020-11-07 02:42:09</td>\n",
       "    </tr>\n",
       "  </tbody>\n",
       "</table>\n",
       "</div>"
      ],
      "text/plain": [
       "   index  Overall    Bib            Name                Time\n",
       "0      0        1  30001  Travis Peruski 2020-11-07 01:37:54\n",
       "1      1        2      1  Scott Wietecha 2020-11-07 02:34:59\n",
       "2      2        3      4   Jordan Wilson 2020-11-07 02:35:24\n",
       "3      3        4  30034  Steelton Flynn 2020-11-07 02:39:59\n",
       "4      4        5  30035    Thomas Ellis 2020-11-07 02:42:09"
      ]
     },
     "execution_count": 33,
     "metadata": {},
     "output_type": "execute_result"
    }
   ],
   "source": [
    "marathon_19_df_merged_reset['Time'] = pd.to_datetime(marathon_19_df_merged_reset['Time'], dayfirst = False)\n",
    "marathon_19_df_merged_reset.head()"
   ]
  },
  {
   "cell_type": "code",
   "execution_count": 34,
   "metadata": {},
   "outputs": [],
   "source": [
    "#marathon_16_df[1]"
   ]
  },
  {
   "cell_type": "code",
   "execution_count": 35,
   "metadata": {},
   "outputs": [],
   "source": [
    "#marathon_17_df[1]"
   ]
  },
  {
   "cell_type": "code",
   "execution_count": 36,
   "metadata": {},
   "outputs": [],
   "source": [
    "#marathon_18_df[1]"
   ]
  },
  {
   "cell_type": "code",
   "execution_count": 37,
   "metadata": {},
   "outputs": [],
   "source": [
    "#marathon_19_df[1]"
   ]
  },
  {
   "cell_type": "code",
   "execution_count": 38,
   "metadata": {},
   "outputs": [],
   "source": [
    "#print(marathon_19_df[1].head())"
   ]
  },
  {
   "cell_type": "code",
   "execution_count": 39,
   "metadata": {},
   "outputs": [
    {
     "data": {
      "text/plain": [
       "Overall     int64\n",
       "Bib         int64\n",
       "Name       object\n",
       "Time       object\n",
       "dtype: object"
      ]
     },
     "execution_count": 39,
     "metadata": {},
     "output_type": "execute_result"
    }
   ],
   "source": [
    "marathon_19_df[1].dtypes"
   ]
  },
  {
   "cell_type": "code",
   "execution_count": null,
   "metadata": {},
   "outputs": [],
   "source": []
  }
 ],
 "metadata": {
  "kernelspec": {
   "display_name": "Python 3",
   "language": "python",
   "name": "python3"
  },
  "language_info": {
   "codemirror_mode": {
    "name": "ipython",
    "version": 3
   },
   "file_extension": ".py",
   "mimetype": "text/x-python",
   "name": "python",
   "nbconvert_exporter": "python",
   "pygments_lexer": "ipython3",
   "version": "3.7.6"
  }
 },
 "nbformat": 4,
 "nbformat_minor": 4
}
