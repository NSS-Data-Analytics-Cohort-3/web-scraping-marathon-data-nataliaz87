{
 "cells": [
  {
   "cell_type": "code",
   "execution_count": 12,
   "metadata": {},
   "outputs": [],
   "source": [
    "import requests\n",
    "import pandas as pd\n",
    "import urllib.request\n",
    "import time\n",
    "from bs4 import BeautifulSoup"
   ]
  },
  {
   "cell_type": "code",
   "execution_count": 13,
   "metadata": {},
   "outputs": [
    {
     "data": {
      "text/plain": [
       "200"
      ]
     },
     "execution_count": 13,
     "metadata": {},
     "output_type": "execute_result"
    }
   ],
   "source": [
    "response = requests.get(\"https://www.runrocknroll.com/Events/Nashville/The-Races/Half-Marathon/2016-Results\")\n",
    "response.status_code"
   ]
  },
  {
   "cell_type": "code",
   "execution_count": 14,
   "metadata": {},
   "outputs": [],
   "source": [
    "URL = \"https://www.runrocknroll.com/Events/Nashville/The-Races/Half-Marathon/2016-Results\""
   ]
  },
  {
   "cell_type": "code",
   "execution_count": 15,
   "metadata": {},
   "outputs": [
    {
     "data": {
      "text/plain": [
       "<title> | Rock n Roll Marathon Series | Marathon Half Marathon Events</title>"
      ]
     },
     "execution_count": 15,
     "metadata": {},
     "output_type": "execute_result"
    }
   ],
   "source": [
    "soup = BeautifulSoup(response.text, \"html.parser\")\n",
    "soup.title"
   ]
  },
  {
   "cell_type": "code",
   "execution_count": 16,
   "metadata": {},
   "outputs": [
    {
     "data": {
      "text/plain": [
       "'text/html; charset=utf-8'"
      ]
     },
     "execution_count": 16,
     "metadata": {},
     "output_type": "execute_result"
    }
   ],
   "source": [
    "response.headers[\"content-type\"]"
   ]
  },
  {
   "cell_type": "code",
   "execution_count": 17,
   "metadata": {},
   "outputs": [
    {
     "data": {
      "text/plain": [
       "b'\\n<!DOCTYPE html>\\n<!--[if IE 9]><html lang=\"en\" class=\"ie9 no-js\"><![endif]-->\\n<!--[if !IE]><!-->\\n<html lang=\"en\">\\n<!--<![endif]-->\\n<head>\\n<script src=\"/cdn-cgi/apps/head/u7S6kWy3Cysuih2qEtS0XdJlwiE.js\"></script><link href=\"/styles/vendor.min.css\" rel=\"stylesheet\" />\\n<link href=\"/styles/rnr.min.css\" rel=\"stylesheet\" />\\n<meta charset=\"utf-8\" />\\n<meta http-equiv=\"X-UA-Compatible\" content=\"IE=edge\">\\n<meta http-equiv=\"Content-type\" content=\"text/html; charset=utf-8\">\\n<meta content=\"width=device-width, initial-scale=1.0\" name=\"viewport\" />\\n<title> | Rock n Roll Marathon Series | Marathon Half Marathon Events</title>\\n<meta property=\"og:title\" content=\"\" />\\n<meta property=\"og:image\" content=\"\" />\\n<meta property=\"og:description\" content=\"\" />\\n<meta property=\"og:url\" content=\"https://www.runrocknroll.com:443/en/Events/Nashville/The Races/Half Marathon/2016 Results\" />\\n\\n<script>\\r\\n        (function (w, d, s, l, i) {\\r\\n            w[l] = w[l] || [];\\r\\n            w[l].push({\\r\\n                \\'gtm.start\\':\\r\\n                    new Date().getTime(),\\r\\n                event: \\'gtm.js\\'\\r\\n            });\\r\\n            var f = d.getElementsByTagName(s)[0],\\r\\n                j = d.createElement(s),\\r\\n                dl = l != \\'dataLayer\\' ? \\'&l=\\' + l : \\'\\';\\r\\n            j.async = true;\\r\\n            j.src =\\r\\n                \\'https://www.googletagmanager.com/gtm.js?id=\\' + i + dl;\\r\\n            f.parentNode.insertBefore(j, f);\\r\\n        })(window, document, \\'script\\', \\'dataLayer\\', \\'GTM-MFKTKL\\');\\r\\n    </script>\\n\\n\\n<script type=\"text/javascript\">\\r\\n        (function () {\\r\\n            var didInit = false;\\r\\n            function initMunchkin() {\\r\\n                if (didInit === false) {\\r\\n                    didInit = true;\\r\\n                    Munchkin.init(\\'124-QVG-738\\');\\r\\n                }\\r\\n            }\\r\\n            var s = document.createElement(\\'script\\');\\r\\n            s.type = \\'text/javascript\\';\\r\\n            s.async = true;\\r\\n            s.src = \\'//munchkin.marketo.net/munchkin.js\\';\\r\\n            s.onreadystatechange = function () {\\r\\n                if (this.readyState == \\'complete\\' || this.readyState == \\'loaded\\') {\\r\\n                    initMunchkin();\\r\\n                }\\r\\n            };\\r\\n            s.onload = initMunchkin;\\r\\n            document.getElementsByTagName(\\'head\\')[0].appendChild(s);\\r\\n        })();\\r\\n    </script>\\n\\n\\n<script src=\"/scripts/Sitecore.Foundation.Frameworks.min.js\"></script>\\n<script src=\"/scripts/Sitecore.Foundation.Theming.min.js\"></script>\\n</head>\\n<body class=\"header-static \">\\n\\n<noscript>\\r\\n        <iframe src=\"https://www.googletagmanager.com/ns.html?id=GTM-MFKTKL\"\\r\\n                height=\"0\" width=\"0\" style=\"display:none;visibility:hidden\"></iframe>\\r\\n    </noscript>\\n\\n<div id=\"main-container\">\\n<header class=\"header-static\">\\n<nav class=\"navbar navbar-default navbar-static\" id=\"mainNavbar\">\\n<div class=\"container\">\\n<div class=\"row\">\\n<div class=\"nav-wrapper\">\\n<div class=\"navbar-right col-sm-12 col-md-2 col-lg-2 clearfix\">\\n<div class=\"navbar-activity event-navbar-activity\">\\n<ul class=\"nav navbar-nav\">\\n<li class=\"dropdown\">\\n<a href=\"#\" class=\"btn dropdown-toggle\" data-toggle=\"dropdown\">\\n<i class=\"fa fa-globe\"></i>\\n</a>\\n<ul class=\"dropdown-menu\">\\n<li class=\"\">\\n<a href=\"https://www.runrocknroll.com:443/it/events/nashville/the races/half marathon/2016 results/\" onclick=\"return SwitchToLanguage(\\'it\\', \\'en\\', \\'https://www.runrocknroll.com:443/it/events/nashville/the races/half marathon/2016 results/\\')\">italiano</a>\\n</li>\\n<li class=\"\">\\n<a href=\"https://www.runrocknroll.com:443/zh/events/nashville/the races/half marathon/2016 results/\" onclick=\"return SwitchToLanguage(\\'zh\\', \\'en\\', \\'https://www.runrocknroll.com:443/zh/events/nashville/the races/half marathon/2016 results/\\')\">\\xe4\\xb8\\xad\\xe6\\x96\\x87</a>\\n</li>\\n<li class=\"active\">\\n<a href=\"https://www.runrocknroll.com:443/en/events/nashville/the races/half marathon/2016 results/\" onclick=\"return SwitchToLanguage(\\'en\\', \\'en\\', \\'https://www.runrocknroll.com:443/en/events/nashville/the races/half marathon/2016 results/\\')\">English</a>\\n</li>\\n<li class=\"\">\\n<a href=\"https://www.runrocknroll.com:443/fr/events/nashville/the races/half marathon/2016 results/\" onclick=\"return SwitchToLanguage(\\'fr\\', \\'en\\', \\'https://www.runrocknroll.com:443/fr/events/nashville/the races/half marathon/2016 results/\\')\">fran&#231;ais</a>\\n</li>\\n<li class=\"\">\\n<a href=\"https://www.runrocknroll.com:443/de/events/nashville/the races/half marathon/2016 results/\" onclick=\"return SwitchToLanguage(\\'de\\', \\'en\\', \\'https://www.runrocknroll.com:443/de/events/nashville/the races/half marathon/2016 results/\\')\">Deutsch</a>\\n</li>\\n<li class=\"\">\\n<a href=\"https://www.runrocknroll.com:443/es/events/nashville/the races/half marathon/2016 results/\" onclick=\"return SwitchToLanguage(\\'es\\', \\'en\\', \\'https://www.runrocknroll.com:443/es/events/nashville/the races/half marathon/2016 results/\\')\">espa&#241;ol</a>\\n</li>\\n</ul>\\n</li><li class=\"navbar-activity-search dropdown\">\\n<form action=\"/en/Search\" class=\"navbar-form\" role=\"search\">\\n<div class=\"form-group\">\\n<input type=\"text\" name=\"query\" id=\"searchInputBox\" placeholder=\"Enter a text to search for...\" autocomplete=\"off\" />\\n</div>\\n</form>\\n<a href=\"#\" class=\"btn navbar-toggle-search\" data-toggle-class=\"is-searching\" data-target=\"#mainNavbar\">\\n<span class=\"glyphicon glyphicon-search\"></span>\\n</a>\\n<div class=\"dropdown-menu dropdown-menu-wide\" id=\"navbar-activity-search-results\">\\n<div class=\"row panel-loading\">\\n<div class=\"col-md-12\">\\n<div class=\"text-center p-b-1\">\\nSearching...\\n</div>\\n<div class=\"text-center\">\\n<span class=\"fa fa-spinner fa-2x fa-spin\"></span>\\n</div>\\n</div>\\n</div>\\n<div class=\"row panel-results\">\\n<div class=\"col-md-12\">\\n<ul class=\"media-list results\"></ul>\\n</div>\\n</div>\\n<div class=\"row panel-result-count\">\\n<div class=\"col-md-12\">\\n<small>\\n<em class=\"result-count\"></em>\\nsearch results found.\\n</small>\\n</div>\\n</div>\\n<div class=\"row panel-facet-values\">\\n<div class=\"col-md-12\">\\n<ul class=\"facet-values\"></ul>\\n</div>\\n</div>\\n<div class=\"row\">\\n<div class=\"col-md-12\">\\n<button class=\"btn btn-primary btn-sm pull-right\" onclick=\"$(\\'.navbar-activity-search form\\').submit()\">Search</button>\\n</div>\\n</div>\\n</div>\\n</li>\\n</ul>\\n</div>\\n<div class=\"event-countdown\">\\n<input id=\"yEvent\" type=\"hidden\" value=\"2020\" />\\n<input id=\"mEvent\" type=\"hidden\" value=\"11\" />\\n<input id=\"dEvent\" type=\"hidden\" value=\"21\" />\\n<input id=\"hEvent\" type=\"hidden\" value=\"0\" />\\n<input id=\"mmEvent\" type=\"hidden\" value=\"0\" />\\n<input id=\"sEvent\" type=\"hidden\" value=\"0\" />\\n<table>\\n<tr>\\n<td id=\"ddcounter\">&nbsp;</td>\\n<td id=\"hhcounter\"> </td>\\n<td id=\"mmcounter\"> </td>\\n<td id=\"sscounter\"> </td>\\n</tr>\\n<tr>\\n<th>Days</th>\\n<th>Hours</th>\\n<th>Mins</th>\\n<th>Secs</th>\\n</tr>\\n</table>\\n</div>\\n<ul class=\"nav navbar-nav mega-menu-results header-btn\">\\n<li class=\"dropdown\">\\n<a href=\"/Events/Nashville/Registration\" class=\"dropdown-toggle btn btn-block\">Register</a>\\n</li>\\n</ul>\\n</div>\\n<div class=\"navbar-left col-sm-12 col-md-2 col-lg-2\">\\n<button type=\"button\" class=\"navbar-toggle collapsed\" data-toggle=\"collapse\" data-target=\"#siteNavbar\" aria-expanded=\"false\">\\n<span class=\"sr-only\">Toggle navigation</span>\\n<span class=\"icon-bar\"></span>\\n<span class=\"icon-bar\"></span>\\n<span class=\"icon-bar\"></span>\\n</button>\\n<a class=\"navbar-brand \" href=\"/en\">\\n<span class=\"logo row\">\\n<img src=\"/-/media/RnR/Images/Logo/rock-n-roll-marathon-logo.png?h=50&amp;la=en&amp;mh=50&amp;w=270&amp;hash=B93502675AEE53BFDE866A7EEF0E5CD9\" alt=\"Rock n Roll Marathon Series\" width=\"270\" height=\"50\" DisableWebEdit=\"False\" />\\n</span>\\n</a>\\n</div>\\n<div class=\"navbar-center col-sm-12 col-md-8 col-lg-8\">\\n<div class=\"collapse navbar-collapse\" id=\"siteNavbar\">\\n<ul class=\"nav navbar-nav\">\\n<li class=\"\">\\n<a class=\"text-uppercase\" href=\"/en/Blog\" target=\"\">\\nBlog\\n</a>\\n</li>\\n<li class=\"\">\\n<a class=\"text-uppercase\" href=\"https://www.runrocknrollstore.com/\" target=\"_blank\">\\nShop\\n</a>\\n</li>\\n<li class=\"\">\\n<a class=\"text-uppercase\" href=\"https://www.runrocknroll.com/Programs/TourPass\" target=\"|Custom\">\\nTourPass\\n</a>\\n</li>\\n<li class=\"\">\\n<a class=\"text-uppercase\" href=\"http://www.runrocknrollvr.com\" target=\"_blank\">\\nVirtual Club\\n</a>\\n</li>\\n<li class=\"\">\\n<a class=\"text-uppercase\" href=\"/en/Events\" target=\"\">\\nEvents\\n</a>\\n</li>\\n<li class=\"\">\\n<a class=\"text-uppercase\" href=\"/en/Programs\" target=\"\">\\nPrograms\\n</a>\\n</li>\\n<li class=\"\">\\n<a class=\"text-uppercase\" href=\"/en/Partners\" target=\"\">\\nPartners\\n</a>\\n</li>\\n<li class=\"\">\\n<a class=\"text-uppercase\" href=\"/en/Results\" target=\"\">\\nResults\\n</a>\\n</li>\\n</ul>\\n</div>\\n\\n<div class=\"row nav-mega-menu\">\\n<div class=\"col-lg-12\">\\n<ul class=\"nav navbar-nav mega-menu-main\">\\n<li class=\" nav-2 col-lg-6  dropdown\">\\n<a href=\"\" class=\"dropdown-toggle btn btn-block\" data-toggle=\"dropdown\" aria-haspopup=\"true\" aria-expanded=\"false\">\\nThe Races\\n</a>\\n<div class=\"mega-menu-content\">\\n<div class=\"row\">\\n<div class=\"col-xs-12 col-sm-3 col-md-3\">\\n<div class=\"collapse navbar-collapse\" id=\"siteNavbar\">\\n<ul class=\"nav nav-service navbar-nav nav-pills\">\\n<li class=\"\">\\n<a href=\"/en/Events/Nashville/The-Races/FAQ\" target=\"\" title=\"FAQ\" class=\"\">\\nFAQ </a>\\n</li>\\n<li class=\"\">\\n<a href=\"/en/Events/Nashville/The-Races/Results\" target=\"\" title=\"Results\" class=\"\">\\nResults </a>\\n</li>\\n<li class=\"\">\\n<a href=\"/en/Events/Nashville/The-Races/Road-Closures\" target=\"\" title=\"Road Closures\" class=\"\">\\nRoad Closures </a>\\n</li>\\n<li class=\"\">\\n<a href=\"/en/Elite-Athletes\" target=\"\" title=\"Elites\" class=\"\">\\nElites </a>\\n</li>\\n<li class=\"\">\\n<a href=\"/en/Programs/Athletes-with-Disabilities\" target=\"\" title=\"Athletes with Disabilities\" class=\"\">\\nAthletes with Disabilities </a>\\n</li>\\n</ul>\\n</div>\\n</div>\\n<div class=\"col-xs-12 col-sm-4 col-md-4\">\\n<div class=\"collapse navbar-collapse\" id=\"siteNavbar\">\\n<ul class=\"nav nav-service navbar-nav nav-pills\">\\n<li class=\"\">\\n<a href=\"/en/Events/Nashville/The-Races/Marathon\" target=\"\" title=\"Marathon\" class=\"\">\\nMarathon </a>\\n</li>\\n<li class=\"active \">\\n<a href=\"/en/Events/Nashville/The-Races/Half-Marathon\" target=\"\" title=\"Half Marathon\" class=\"\">\\nHalf Marathon </a>\\n</li>\\n</ul>\\n</div>\\n</div>\\n</div> </div>\\n</li>\\n<li class=\" nav-2 col-lg-6  dropdown\">\\n<a href=\"\" class=\"dropdown-toggle btn btn-block\" data-toggle=\"dropdown\" aria-haspopup=\"true\" aria-expanded=\"false\">\\nThe Weekend\\n</a>\\n<div class=\"mega-menu-content\">\\n<div class=\"row\">\\n<div class=\"col-xs-12 col-sm-3 col-md-3\">\\n<div class=\"collapse navbar-collapse\" id=\"siteNavbar\">\\n<ul class=\"nav nav-service navbar-nav nav-pills\">\\n<li class=\"\">\\n<a href=\"/en/Events/Nashville/The-Weekend/Travel/Stay\" target=\"\" title=\"Hotels\" class=\"\">\\nHotels </a>\\n</li>\\n<li class=\"\">\\n<a href=\"/en/Events/Nashville/The-Weekend/Travel/Fly\" target=\"\" title=\"Travel\" class=\"\">\\nTravel </a>\\n</li>\\n<li class=\"\">\\n<a href=\"/en/Events/Nashville/The-Weekend/Expo\" target=\"\" title=\"Expo\" class=\"\">\\nExpo </a>\\n</li>\\n<li class=\"\">\\n<a href=\"/en/Events/Nashville/The-Weekend/Schedule\" target=\"\" title=\"Schedule\" class=\"\">\\nSchedule </a>\\n</li>\\n<li class=\"\">\\n<a href=\"\" target=\"\" title=\"Entertainment\" class=\"\">\\nEntertainment </a>\\n</li>\\n</ul>\\n</div>\\n</div>\\n<div class=\"col-xs-12 col-sm-2 col-md-2\">\\n<div class=\"collapse navbar-collapse\" id=\"siteNavbar\">\\n<ul class=\"nav nav-service navbar-nav nav-pills\">\\n<li class=\"\">\\n<a href=\"/en/Events/Nashville/The-Weekend/Everything-RNRNashville\" target=\"\" title=\"Everything #RNRNashville\" class=\"\">\\nEverything #RNRNashville </a>\\n</li>\\n<li class=\"divider-left\">\\n<a href=\"/en/Events/Nashville/The-Weekend/Runner-Perks\" target=\"|Custom\" title=\"Runner Perks\" class=\"\">\\nRunner Perks </a>\\n</li>\\n<li class=\"\">\\n<a href=\"/en/Events/Nashville/The-Weekend/Travel/Transport\" target=\"|Custom\" title=\"Parking Information\" class=\"\">\\nParking Information </a>\\n</li>\\n<li class=\"divider-left\">\\n<a href=\"/en/Events/Nashville/News-and-Promotions\" target=\"|Custom\" title=\"News and Promotions\" class=\"\">\\nNews and Promotions </a>\\n</li>\\n<li class=\"\">\\n<a href=\"/en/Events/Nashville/The-Weekend/Volunteer\" target=\"\" title=\"Volunteer\" class=\"\">\\nVolunteer </a>\\n</li>\\n</ul>\\n</div>\\n</div>\\n</div> </div>\\n</li>\\n</ul>\\n</div>\\n</div>\\n</div>\\n</div>\\n</div>\\n</div>\\n</nav>\\n</header>\\n<main role=\"main\">\\n<header class=\"page-header bg-media\" style=background-image:url(&#39;/-/media/RnR/Images/Events/Nashville/Images/nash-hero-new-compressor.jpg&#39;);>\\n<div class=\"container breadcrumb-container\">\\n<ol class=\"breadcrumb\">\\n<li class=\"\">\\n<a href=\"/en\">Home</a>\\n</li>\\n<li class=\"\">\\n<a href=\"/en/Events\">Events</a>\\n</li>\\n<li class=\"\">\\n<a href=\"/en/Events/Nashville\">Nashville</a>\\n</li>\\n<li class=\"\">\\n<a href=\"/en/Events/Nashville/The-Races\">The Races</a>\\n</li>\\n<li class=\"\">\\n<a href=\"/en/Events/Nashville/The-Races/Half-Marathon\">Half Marathon</a>\\n</li>\\n<li class=\"active\">\\n<a href=\"/en/Events/Nashville/The-Races/Half-Marathon/2016-Results\">2016 Results</a>\\n</li>\\n</ol>\\n</div>\\n<div class=\"container text-center g-pb-50\">\\n<div class=\"row g-min-height-500\">\\n<div class=\"col-lg-12\">\\n<div class=\"event-header-container\">\\n<div class=\"row ev-h2-div\">\\n<div class=\"divider-div\">\\n<div class=\"low-divider\"></div>\\n</div>\\n<div class=\"ev-h2\">\\n<h2>\\nRock &#39;n&#39; Roll </h2>\\n</div>\\n<div class=\"divider-div\">\\n<div class=\"low-divider\"></div>\\n</div>\\n</div>\\n<div class=\"ev-h1\">\\n<h1>\\nNashville </h1>\\n</div>\\n<div class=\"row ev-h3-div\">\\n<div class=\"divider-div\">\\n<div class=\"low-divider\"></div>\\n</div>\\n<div class=\"ev-h3\">\\n<h3>\\n<time>\\nNov 21, 2020\\n</time>\\n</h3>\\n</div>\\n<div class=\"divider-div\">\\n<div class=\"low-divider\"></div>\\n</div>\\n</div>\\n</div>\\n</div>\\n</div>\\n</div>\\n</header>\\n<section class=\"section section-full \">\\n<div class=\"container\">\\n<div class=\"row\">\\n<div class=\"col-md-12\">\\n\\n<div class=\"row race-search-res-container\">\\n<div class=\"race-search-res-div-main col-xs-12\">\\n<div class=\"race-search-main col-xs-12\">\\n<div class=\"race-search-img-container\">\\n<figure class=\"col-xs-12 col-sm-6 col-md-5\">\\n</figure>\\n</div>\\n<div class=\"race-search-date-info-div col-xs-12\">\\n<p>Saturday, April 30, 2016</p>\\n<p>To find your results the quickest, please enter your bib number.</p>\\n</div>\\n<div class=\"race-search-div col-xs-12\">\\n<div class=\"race-search-form-container\">\\n<form action=\"/Events/Nashville/The-Races/Half-Marathon/2016-Results\" class=\"race-search-form col-xs-12 col-sm-8\" method=\"post\"> \\n<fieldset class=\"race-options\">\\n<ol class=\"search-filter-list\">\\n<li>\\n<input type=\"text\" class=\"btn-block\" placeholder=\"First Name\" name=\"firstname\" id=\"firstName\" />\\n</li>\\n<li>\\n<input type=\"text\" class=\"btn-block\" placeholder=\"Last Name\" name=\"lastname\" id=\"lastName\" />\\n</li>\\n<li>\\n<select class=\"gender-ddl btn-block\" name=\"gender\">\\n<option selected value=\"\">- Gender -</option>\\n<option value=\"M\">Male</option>\\n<option value=\"F\">Female</option>\\n</select>\\n</li>\\n\\n<li>\\n<input type=\"text\" class=\"btn-block\" placeholder=\"Runner Number (bib)\" name=\"bib\" id=\"b\" />\\n</li>\\n\\n\\n<li>\\n<select class=\"div-ddl btn-block\" name=\"agegroup\">\\n<option selected value=\"\">- Division -</option>\\n<option value=\"\">All Divisions</option>\\n<option value=\"Cranks\">Cranks</option>\\n<option value=\"F18-24\">F18-24</option>\\n<option value=\"F25-29\">F25-29</option>\\n<option value=\"F30-34\">F30-34</option>\\n<option value=\"F35-39\">F35-39</option>\\n<option value=\"F40-44\">F40-44</option>\\n<option value=\"F45-49\">F45-49</option>\\n<option value=\"F50-54\">F50-54</option>\\n<option value=\"F55-59\">F55-59</option>\\n<option value=\"F60-64\">F60-64</option>\\n<option value=\"F65-69\">F65-69</option>\\n<option value=\"F70-74\">F70-74</option>\\n<option value=\"F75-79\">F75-79</option>\\n<option value=\"F80-99\">F80-99</option>\\n<option value=\"M18-24\">M18-24</option>\\n<option value=\"M25-29\">M25-29</option>\\n<option value=\"M30-34\">M30-34</option>\\n<option value=\"M35-39\">M35-39</option>\\n<option value=\"M40-44\">M40-44</option>\\n<option value=\"M45-49\">M45-49</option>\\n<option value=\"M50-54\">M50-54</option>\\n<option value=\"M55-59\">M55-59</option>\\n<option value=\"M60-64\">M60-64</option>\\n<option value=\"M65-69\">M65-69</option>\\n<option value=\"M70-74\">M70-74</option>\\n<option value=\"M75-79\">M75-79</option>\\n<option value=\"M80-99\">M80-99</option>\\n</select>\\n</li>\\n</ol>\\n</fieldset>\\n<fieldset class=\"search-reset-correction col-xs-12\">\\n<div class=\"search-reset-div\">\\n<span class=\"col-xs-12 col-sm-5\">\\n<button type=\"submit\" class=\"btn btn-block red-grad-btn search-btn\">Search</button>\\n</span>\\n</div>\\n<div class=\"correction-div\">\\n<div class=\"col-xs-12\">\\n<a class=\"btn btn-block no-bg-btn\" href=\"/en/Contact/Corrections\">Submit a Correction</a>\\n</div>\\n</div>\\n</fieldset>\\n\\n</form> </div>\\n</div>\\n</div>\\n</div>\\n</div>\\n<div class=\"headline2 \">\\n<h3>Leaderboards</h3>\\n</div>\\n</div>\\n</div>\\n</div><div class=\"container\">\\n<div class=\"row\">\\n<div class=\"col-md-6\">\\n<div class=\"race-search-top10-div\">\\n<table class=\"table table-responsive table-bordered\">\\n<tr>\\n<th class=\"table-header\" colspan=\"3\">Top Females</th>\\n</tr>\\n<tr>\\n<th class=\"table-place\">Gender PL</th>\\n<th class=\"table-name\">Name</th>\\n<th class=\"table-time\">Time</th>\\n</tr>\\n<tr>\\n<td>1</td>\\n<td><a href=\"/en/Events/Nashville/The-Races/Half-Marathon/2016-Results/Athlete?id=307\">Julie Stackhouse</a></td>\\n<td>01:22:17</td>\\n</tr>\\n<tr>\\n<td>2</td>\\n<td><a href=\"/en/Events/Nashville/The-Races/Half-Marathon/2016-Results/Athlete?id=309\">Maria Heathcott</a></td>\\n<td>01:22:37</td>\\n</tr>\\n<tr>\\n<td>3</td>\\n<td><a href=\"/en/Events/Nashville/The-Races/Half-Marathon/2016-Results/Athlete?id=302\">Amy Cole</a></td>\\n<td>01:23:17</td>\\n</tr>\\n<tr>\\n<td>4</td>\\n<td><a href=\"/en/Events/Nashville/The-Races/Half-Marathon/2016-Results/Athlete?id=305\">Elise Sigg</a></td>\\n<td>01:24:59</td>\\n</tr>\\n<tr>\\n<td>5</td>\\n<td><a href=\"/en/Events/Nashville/The-Races/Half-Marathon/2016-Results/Athlete?id=1304\">Kasey Briggs</a></td>\\n<td>01:25:30</td>\\n</tr>\\n<tr>\\n<td>6</td>\\n<td><a href=\"/en/Events/Nashville/The-Races/Half-Marathon/2016-Results/Athlete?id=303\">Ashley Evans</a></td>\\n<td>01:26:36</td>\\n</tr>\\n<tr>\\n<td>7</td>\\n<td><a href=\"/en/Events/Nashville/The-Races/Half-Marathon/2016-Results/Athlete?id=301\">Dani Fischer</a></td>\\n<td>01:26:54</td>\\n</tr>\\n<tr>\\n<td>8</td>\\n<td><a href=\"/en/Events/Nashville/The-Races/Half-Marathon/2016-Results/Athlete?id=1332\">Allie Scalf Greer</a></td>\\n<td>01:27:12</td>\\n</tr>\\n<tr>\\n<td>9</td>\\n<td><a href=\"/en/Events/Nashville/The-Races/Half-Marathon/2016-Results/Athlete?id=1271\">Rachel Malone</a></td>\\n<td>01:27:26</td>\\n</tr>\\n<tr>\\n<td>10</td>\\n<td><a href=\"/en/Events/Nashville/The-Races/Half-Marathon/2016-Results/Athlete?id=1556\">Elizabeth Montgomery</a></td>\\n<td>01:27:42</td>\\n</tr>\\n</table>\\n</div>\\n</div>\\n<div class=\"col-md-6\">\\n<div class=\"race-search-top10-div\">\\n<table class=\"table table-responsive table-bordered\">\\n<tr>\\n<th class=\"table-header\" colspan=\"3\">Top Men</th>\\n</tr>\\n<tr>\\n<th class=\"table-place\">Gender PL</th>\\n<th class=\"table-name\">Name</th>\\n<th class=\"table-time\">Time</th>\\n</tr>\\n<tr>\\n<td>1</td>\\n<td><a href=\"/en/Events/Nashville/The-Races/Half-Marathon/2016-Results/Athlete?id=201\">Roosevelt Cook</a></td>\\n<td>01:11:15</td>\\n</tr>\\n<tr>\\n<td>2</td>\\n<td><a href=\"/en/Events/Nashville/The-Races/Half-Marathon/2016-Results/Athlete?id=204\">Bill Martin</a></td>\\n<td>01:11:50</td>\\n</tr>\\n<tr>\\n<td>3</td>\\n<td><a href=\"/en/Events/Nashville/The-Races/Half-Marathon/2016-Results/Athlete?id=1623\">Cody Hodgins</a></td>\\n<td>01:13:43</td>\\n</tr>\\n<tr>\\n<td>4</td>\\n<td><a href=\"/en/Events/Nashville/The-Races/Half-Marathon/2016-Results/Athlete?id=1222\">Andrew Archer</a></td>\\n<td>01:15:04</td>\\n</tr>\\n<tr>\\n<td>5</td>\\n<td><a href=\"/en/Events/Nashville/The-Races/Half-Marathon/2016-Results/Athlete?id=1224\">Brian Syring</a></td>\\n<td>01:15:30</td>\\n</tr>\\n<tr>\\n<td>6</td>\\n<td><a href=\"/en/Events/Nashville/The-Races/Half-Marathon/2016-Results/Athlete?id=203\">Lane Boyer</a></td>\\n<td>01:16:23</td>\\n</tr>\\n<tr>\\n<td>7</td>\\n<td><a href=\"/en/Events/Nashville/The-Races/Half-Marathon/2016-Results/Athlete?id=1231\">Tom Divinnie</a></td>\\n<td>01:17:11</td>\\n</tr>\\n<tr>\\n<td>8</td>\\n<td><a href=\"/en/Events/Nashville/The-Races/Half-Marathon/2016-Results/Athlete?id=1218\">Nick French</a></td>\\n<td>01:17:11</td>\\n</tr>\\n<tr>\\n<td>9</td>\\n<td><a href=\"/en/Events/Nashville/The-Races/Half-Marathon/2016-Results/Athlete?id=1234\">Tony White</a></td>\\n<td>01:17:16</td>\\n</tr>\\n<tr>\\n<td>10</td>\\n<td><a href=\"/en/Events/Nashville/The-Races/Half-Marathon/2016-Results/Athlete?id=1232\">Lewis Kivett</a></td>\\n<td>01:17:49</td>\\n</tr>\\n</table>\\n</div>\\n</div>\\n</div>\\n</div>\\n</section><section class=\"section section-full \">\\n<div class=\"container\">\\n<div class=\"row\">\\n<div class=\"col-md-6\">\\n</div>\\n<div class=\"col-md-6\">\\n</div>\\n</div>\\n</div>\\n</section>\\n<div class=\"text-center\">\\n<ul class=\"list-inline\">\\n</ul>\\n</div>\\n<div id=\"secSponsor\" class=\"owl-carousel sponsors\" data-options=\\'{\"items\": 8, \"autoplay\": true, \"autoplayTimeout\": 5000, \"loop\": true, \"navigation\": false, \"navigationText\": [\"<\", \">\"], \"responsive\":{ \"0\" :{ \"items\": 2 }, \"500\" :{ \"items\": 3 }, \"860\" :{ \"items\" : 4 } , \"1000\":{ \"items\" : 8 }} }\\'>\\n<div>\\n<a href=\"http://www.brooksrunning.com/\" target=\"_blank\">\\n<img src=\"/-/media/RnR/Images/Sponsors/Series-Sponsors/Brooks/brooks_horiz_blk.jpg?h=50&amp;mh=100&amp;w=171&amp;hash=9A8F9BE5CFE4E99F11B840A488EBC39B\" class=\"img-responsive\" alt=\"Brooks\" width=\"171\" height=\"50\" DisableWebEdit=\"False\" />\\n</a>\\n</div>\\n<div>\\n<a href=\"https://www.united.com/ual/en/us/\" target=\"_blank\">\\n<img src=\"/-/media/RnR/Images/Sponsors/Series-Sponsors/United-Airlines/160x50-united.jpg?h=50&amp;mh=100&amp;w=160&amp;hash=F59D3AC956300DFABF57851C7D9C716B\" class=\"img-responsive\" alt=\"united airlines\" width=\"160\" height=\"50\" DisableWebEdit=\"False\" />\\n</a>\\n</div>\\n<div>\\n<a href=\"https://www.humana.com\" target=\"_blank\">\\n<img src=\"/-/media/RnR/Images/Sponsors/Series-Sponsors/Humana/partner_logo-humana.jpg?h=50&amp;mh=100&amp;w=109&amp;hash=2DA5DD6B8859825235CD7DBADC52C0B9\" class=\"img-responsive\" alt=\"humana\" width=\"109\" height=\"50\" DisableWebEdit=\"False\" />\\n</a>\\n</div>\\n<div>\\n<a href=\"https://www.active.com/.\" target=\"_blank\">\\n<img src=\"/-/media/Active_grey.png?h=50&amp;mh=100&amp;w=100&amp;hash=C603B69939862854A284B13FFBE5C615\" class=\"img-responsive\" alt=\"active\" width=\"100\" height=\"50\" DisableWebEdit=\"False\" />\\n</a>\\n</div>\\n<div>\\n<a href=\"https://cepcompression.com/\" target=\"_blank\">\\n<img src=\"/-/media/RnR/Images/Sponsors/Series-Sponsors/CEP/cep-160x160-bw/cep-160x160-bw_50.png?h=50&amp;mh=100&amp;w=114&amp;hash=D7E02BFBF2CE675F50E3AB09FB4BE102\" class=\"img-responsive\" alt=\"CEP Compression Logo\" width=\"114\" height=\"50\" DisableWebEdit=\"False\" />\\n</a>\\n</div>\\n<div>\\n<a href=\"https://www.builtwithchocolatemilk.com/\" target=\"_blank\">\\n<img src=\"/-/media/RnR/Images/Sponsors/Series-Sponsors/Chocolate-Milk/partner_logo-chocolate-milk.jpg?h=50&amp;mh=100&amp;w=90&amp;hash=F208A4FDCD204BD9C78F96B4D6805492\" class=\"img-responsive\" alt=\"Milk\" width=\"90\" height=\"50\" DisableWebEdit=\"False\" />\\n</a>\\n</div>\\n<div>\\n<a href=\"https://www.finisherpix.com/home.html\" target=\"_blank\">\\n<img src=\"/-/media/RnR/Images/Sponsors/Series-Sponsors/FinisherPix/FinisherPix_GreyScale.png?h=50&amp;mh=100&amp;w=152&amp;hash=9BE2C1CF2E172C0E89C8078166897F3A\" class=\"img-responsive\" alt=\"finisher pix\" width=\"152\" height=\"50\" DisableWebEdit=\"False\" />\\n</a>\\n</div>\\n<div>\\n<a href=\"http://www.gatorade.com/endurance/\" target=\"_blank\">\\n<img src=\"/-/media/RnR/Images/Sponsors/Series-Sponsors/Gatorade/partner_logo-gatorade-endurance.jpg?h=50&amp;mh=100&amp;w=65&amp;hash=64BBEBDEF000B3A4C0EFEAE87C584123\" class=\"img-responsive\" alt=\"Gatorade\" width=\"65\" height=\"50\" DisableWebEdit=\"False\" />\\n</a>\\n</div>\\n<div>\\n<a href=\"https://bubbafoods.com/\" target=\"_blank\">\\n<img src=\"/-/media/RnR/Images/Sponsors/Series-Sponsors/Bubba-Burger/bubba-burger-logo_GreyScale.png?h=50&amp;mh=100&amp;w=132&amp;hash=BA894BFB29C59DE0989073ED15B6E513\" class=\"img-responsive\" alt=\"Bubba Burger\" width=\"132\" height=\"50\" DisableWebEdit=\"False\" />\\n</a>\\n</div>\\n<div>\\n<a href=\"http://www.dolesunshine.com\" target=\"\">\\n<img src=\"/-/media/RnR/Images/Sponsors/Series-Sponsors/Dole/2020_Dole_logo_greyscale.png?h=65&amp;mh=100&amp;w=95&amp;hash=49EB33789497D77B74DF8B20E430E7F6\" class=\"img-responsive\" alt=\"2020_Dole_logo_greyscale\" width=\"95\" height=\"65\" DisableWebEdit=\"False\" />\\n</a>\\n</div>\\n<div>\\n<a href=\"https://www.pnc.com/tennesseecommercial\" target=\"_blank\">\\n<img src=\"/-/media/RnR/Images/Sponsors/Nashville-Sponsors/PNC_Bank_Logo.png?h=50&amp;mh=100&amp;w=267&amp;hash=9D4167B4BD0073A536B27CBB9DACF416\" class=\"img-responsive\" alt=\"PNC_Bank_Logo\" width=\"267\" height=\"50\" DisableWebEdit=\"False\" />\\n</a>\\n</div>\\n<div>\\n<a href=\"http://www.potatoesusa.com/\" target=\"_blank\">\\n<img src=\"/-/media/RnR/Images/Sponsors/Series-Sponsors/Potatoes-USA/PotatoesUSA_LogoGreyScale_3.png?h=100&amp;mh=100&amp;w=217&amp;hash=BB6E3A5C17F39085E24713ACB27F82C7\" class=\"img-responsive\" alt=\"Potatoes USA\" width=\"217\" height=\"100\" DisableWebEdit=\"False\" />\\n</a>\\n</div>\\n<div>\\n<a href=\"https://www.thelaughingcow.com/\" target=\"_blank\">\\n<img src=\"/-/media/RnR/Images/Sponsors/Series-Sponsors/Laughing-Cow/Laughing-Cow-Grey-logo.jpg?h=50&amp;mh=100&amp;w=100&amp;hash=69A1FBCEBD9F96E27B7592A53046CA06\" class=\"img-responsive\" alt=\"Laughing-Cow-Grey-logo\" width=\"100\" height=\"50\" DisableWebEdit=\"False\" />\\n</a>\\n</div>\\n<div>\\n<a href=\"https://capitolviewnashville.com/ \" target=\"_blank\">\\n<img src=\"/-/media/RnR/Images/Sponsors/Nashville-Sponsors/Capital-View-Logo.jpg?h=50&amp;mh=100&amp;w=50&amp;hash=10D0A23C7EB9FA24EEB5A8E17BBDFB7D\" class=\"img-responsive\" alt=\"Capital-View-Logo\" width=\"50\" height=\"50\" DisableWebEdit=\"False\" />\\n</a>\\n</div>\\n<div>\\n<a href=\"https://www.apple.com/apple-pay/\" target=\"_blank\">\\n<img src=\"/-/media/RnR/Images/Sponsors/Series-Sponsors/Apple-Pay/ApplePay_Logo-grayscale.jpg?h=100&amp;mh=100&amp;w=145&amp;hash=5BEC326FA972ECD71473CFEB343E8296\" class=\"img-responsive\" alt=\"ApplePay_Logo grayscale\" width=\"145\" height=\"100\" DisableWebEdit=\"False\" />\\n</a>\\n</div>\\n</div>\\n</main>\\n<footer class=\"bg-dark\">\\n<div class=\"container\">\\n<div class=\"row\">\\n<div class=\"col-sm-3\">\\n<ul class=\"nav nav-links nav-stacked\">\\n<li>\\n<a href=\"/en/About\" target=\"\" title=\"About\">\\n<span>About</span>\\n</a>\\n</li>\\n<li>\\n<a href=\"/en/Expo-Vendor\" target=\"\" title=\"Expo Vendor\">\\n<span>Expo Vendor</span>\\n</a>\\n</li>\\n<li>\\n<a href=\"/en/Press\" target=\"\" title=\"Press\">\\n<span>Press</span>\\n</a>\\n</li>\\n<li>\\n<a href=\"/en/Results\" target=\"\" title=\"Race Results\">\\n<span>Race Results</span>\\n</a>\\n</li>\\n<li>\\n<a href=\"/en/Partners\" target=\"\" title=\"Partners\">\\n<span>Partners</span>\\n</a>\\n</li>\\n<li>\\n<a href=\"/en/Programs\" target=\"\" title=\"Charity\">\\n<span>Charity</span>\\n</a>\\n</li>\\n<li>\\n<a href=\"/en/Contact\" target=\"\" title=\"Contact\">\\n<span>Contact</span>\\n</a>\\n</li>\\n<li>\\n<a href=\"/en/Contact\" target=\"\" title=\"FAQ\">\\n<span>FAQ</span>\\n</a>\\n</li>\\n<li>\\n<a href=\"/en/Blog\" target=\"\" title=\"Blog\">\\n<span>Blog</span>\\n</a>\\n</li>\\n<li>\\n<a href=\"/en/Programs/Elite-Athletes\" target=\"\" title=\"Elite Athletes\">\\n<span>Elite Athletes</span>\\n</a>\\n</li>\\n</ul>\\n</div>\\n<div class=\"col-sm-3\">\\n<ul class=\"nav nav-links nav-stacked\">\\n<li>\\n<a href=\"/Events/Nashville/The-Races/Marathon\" target=\"\" title=\"Marathon\">\\n<span>Marathon</span>\\n</a>\\n</li>\\n<li>\\n<a href=\"/Events/Nashville/The-Races/Half-Marathon\" target=\"\" title=\"Half Marathon\">\\n<span>Half Marathon</span>\\n</a>\\n</li>\\n<li>\\n<a href=\"/Events/Nashville/The-Races/FAQ\" target=\"\" title=\"FAQ\">\\n<span>FAQ</span>\\n</a>\\n</li>\\n<li>\\n<a href=\"/Events/Nashville/The-Races/Road-Closures\" target=\"\" title=\"Road Closures\">\\n<span>Road Closures</span>\\n</a>\\n</li>\\n<li>\\n<a href=\"/Events/Nashville/The-Races/Results\" target=\"\" title=\"Results\">\\n<span>Results</span>\\n</a>\\n</li>\\n</ul>\\n</div>\\n<div class=\"col-sm-3\">\\n<ul class=\"nav nav-links nav-stacked\">\\n<li>\\n<a href=\"/Events/Nashville/The-Weekend/Everything-RNRNashville\" target=\"\" title=\"Everything #RNRNashville\">\\n<span>Everything #RNRNashville</span>\\n</a>\\n</li>\\n<li>\\n<a href=\"/Events/Nashville/The-Weekend/Schedule\" target=\"\" title=\"Schedule\">\\n<span>Schedule</span>\\n</a>\\n</li>\\n<li>\\n<a href=\"/Events/Nashville/The-Weekend/Expo\" target=\"\" title=\"Expo\">\\n<span>Expo</span>\\n</a>\\n</li>\\n<li>\\n<a href=\"/Events/Nashville/The-Weekend/Runner-Perks\" target=\"\" title=\"Runner Perks\">\\n<span>Runner Perks</span>\\n</a>\\n</li>\\n<li>\\n<a href=\"/Events/Nashville/The-Weekend/Travel\" target=\"\" title=\"Travel\">\\n<span>Travel</span>\\n</a>\\n</li>\\n<li>\\n<a href=\"/Events/Nashville/The-Weekend/Volunteer\" target=\"\" title=\"Volunteer\">\\n<span>Volunteer</span>\\n</a>\\n</li>\\n</ul>\\n</div>\\n<div class=\"col-sm-3\">\\n<ul class=\"nav nav-links nav-stacked\">\\n<li>\\n<a href=\"/en/Contact\" target=\"\" title=\"Contact\">\\n<span>Contact</span>\\n</a>\\n</li>\\n<li>\\n<a href=\"/en/Contact\" target=\"\" title=\"FAQ\">\\n<span>FAQ</span>\\n</a>\\n</li>\\n<li>\\n<a href=\"https://rtrt.me/app/rnra\" target=\"_blank\" title=\"Download our App\">\\n<span>Download our App</span>\\n</a>\\n</li>\\n<li>\\n<a href=\"https://twitter.com/runrocknroll\" target=\"_blank\" title=\"Twitter\">\\n<span>Twitter</span>\\n</a>\\n</li>\\n<li>\\n<a href=\"https://www.facebook.com/RunRocknRoll\" target=\"_blank\" title=\"Facebook\">\\n<span>Facebook</span>\\n</a>\\n</li>\\n<li>\\n<a href=\"https://www.instagram.com/runrocknroll/\" target=\"_blank\" title=\"Instagram\">\\n<span>Instagram</span>\\n</a>\\n</li>\\n<li>\\n<a href=\"https://www.youtube.com/runrocknroll/\" target=\"_blank\" title=\"Youtube\">\\n<span>Youtube</span>\\n</a>\\n</li>\\n<li>\\n<a href=\"https://www.pinterest.com/runrocknroll/\" target=\"_blank\" title=\"Pinterest\">\\n<span>Pinterest</span>\\n</a>\\n</li>\\n</ul>\\n</div>\\n</div>\\n</div>\\n<a class=\"\" href=\"/\">\\n<span class=\"logo row\">\\n<img src=\"/-/media/RnR/Images/Logo/RocknRoll_logo.png?h=50&amp;la=en&amp;mh=50&amp;w=270&amp;hash=D273C43160DC6F102327F2C70FC7DB08\" alt=\"Rock n Roll Marathon\" width=\"270\" height=\"50\" DisableWebEdit=\"False\" />\\n</span>\\n</a>\\n<div class=\"footer-bottom text-center\">\\n<div class=\"container\">\\n<div class=\"row\">\\n<div class=\"col-md-12\">\\n<div class=\"collapse navbar-collapse\" id=\"siteNavbar\">\\n<ul class=\"nav nav-service navbar-nav nav-pills\">\\n<li class=\"\">\\n<a href=\"http://content.ironman.com/LP---Rock-N-Roll-Website-Subscribe.html?&amp;utm_source=website&amp;utm_medium=web&amp;utm_campaign=evergreen\" target=\"_blank\" title=\"Subscribe\" class=\"\">\\nSubscribe </a>\\n</li>\\n<li class=\"divider-left\">\\n<a href=\"/Privacy-Policy\" target=\"\" title=\"Ad Choices\" class=\"\">\\nAd Choices </a>\\n</li>\\n<li class=\"divider-left\">\\n<a href=\"/Do-Not-Sell\" target=\"\" title=\"Do Not Sell\" class=\"\">\\nDo Not Sell </a>\\n</li>\\n<li class=\"divider-left\">\\n<a href=\"/Privacy-Policy\" target=\"\" title=\"Privacy Policy\" class=\"\">\\nPrivacy Policy </a>\\n</li>\\n<li class=\"divider-left\">\\n<a href=\"https://www.ironman.com/terms-of-use\" target=\"_blank\" title=\"Terms of Use\" class=\"\">\\nTerms of Use </a>\\n</li>\\n</ul>\\n</div>\\n<small class=\"copyright row\">\\n\\xc2\\xa9 2019 \\xe2\\x80\\x93 Competitor Group, Inc. All Rights Reserved.\\n</small>\\n</div>\\n</div>\\n</div>\\n</div>\\n</footer>\\n</div>\\n<script src=\"/scripts/Events/EventCountdown.js\"></script>\\n<script src=\"/scripts/language/language.js\"></script>\\n<script src=\"/scripts/search/search.js\"></script>\\n<script src=\"//www.atmrum.net/rum.js\"></script>\\n<script>rum.start(\"df965e9d5cc954678e1f0b3288e07300\");</script>\\n</body>\\n</html>'"
      ]
     },
     "execution_count": 17,
     "metadata": {},
     "output_type": "execute_result"
    }
   ],
   "source": [
    "response.content"
   ]
  },
  {
   "cell_type": "code",
   "execution_count": 18,
   "metadata": {},
   "outputs": [],
   "source": [
    "response = requests.post(URL)"
   ]
  },
  {
   "cell_type": "code",
   "execution_count": 19,
   "metadata": {},
   "outputs": [],
   "source": [
    "race_search_main = soup.find(attrs={\"class\": \"race-search-main\"}) \\\n",
    "    .find(\"table\")\n",
    "\n",
    "race_search_main"
   ]
  },
  {
   "cell_type": "code",
   "execution_count": 20,
   "metadata": {},
   "outputs": [],
   "source": [
    "###marathon_soup = soup.find(\"div\", attrs={\"class\": \"race-search-main\"})\n",
    "###marathon_soup"
   ]
  },
  {
   "cell_type": "code",
   "execution_count": 21,
   "metadata": {},
   "outputs": [
    {
     "ename": "AttributeError",
     "evalue": "'NoneType' object has no attribute 'findAll'",
     "output_type": "error",
     "traceback": [
      "\u001b[1;31m---------------------------------------------------------------------------\u001b[0m",
      "\u001b[1;31mAttributeError\u001b[0m                            Traceback (most recent call last)",
      "\u001b[1;32m<ipython-input-21-bf02a9b12aa5>\u001b[0m in \u001b[0;36m<module>\u001b[1;34m\u001b[0m\n\u001b[1;32m----> 1\u001b[1;33m \u001b[0mrace_search_main_headers\u001b[0m \u001b[1;33m=\u001b[0m \u001b[0mrace_search_main\u001b[0m\u001b[1;33m.\u001b[0m\u001b[0mfindAll\u001b[0m\u001b[1;33m(\u001b[0m\u001b[0mrecursive\u001b[0m\u001b[1;33m=\u001b[0m\u001b[1;32mFalse\u001b[0m\u001b[1;33m)\u001b[0m\u001b[1;33m\u001b[0m\u001b[1;33m\u001b[0m\u001b[0m\n\u001b[0m\u001b[0;32m      2\u001b[0m \u001b[0mrace_search_main_headers\u001b[0m\u001b[1;33m\u001b[0m\u001b[1;33m\u001b[0m\u001b[0m\n",
      "\u001b[1;31mAttributeError\u001b[0m: 'NoneType' object has no attribute 'findAll'"
     ]
    }
   ],
   "source": [
    "race_search_main_headers = race_search_main.findAll(recursive=False)\n",
    "race_search_main_headers"
   ]
  },
  {
   "cell_type": "code",
   "execution_count": null,
   "metadata": {},
   "outputs": [],
   "source": [
    "last_table_child = race_search_main_headers[-1]\n",
    "last_table_child"
   ]
  },
  {
   "cell_type": "code",
   "execution_count": null,
   "metadata": {},
   "outputs": [],
   "source": [
    "marathon[-1].find(\"th\", attrs={\"class\": \"table-place\"})"
   ]
  },
  {
   "cell_type": "code",
   "execution_count": null,
   "metadata": {},
   "outputs": [],
   "source": [
    "marathon[-1].find(\"th\", attrs={\"class\": \"table-name\"})"
   ]
  },
  {
   "cell_type": "code",
   "execution_count": null,
   "metadata": {},
   "outputs": [],
   "source": [
    "marathon[-1].find(\"th\", attrs={\"class\": \"table-time\"})"
   ]
  },
  {
   "cell_type": "code",
   "execution_count": null,
   "metadata": {},
   "outputs": [],
   "source": [
    "race_search_main = list ()\n",
    "line_count = 1 #variable to track what line you are on\n",
    "for one_a_tag in soup.findAll('a'):  #'a' tags are for links\n",
    "    if line_count >= 155: #code for text files starts at line 36\n",
    "        link = one_a_tag['href']\n",
    "        download_url = 'https://www.runrocknroll.com/Events/Nashville/The-Races/Half-Marathon/2016-Results'+ link\n",
    "        urllib.request.urlretrieve(download_url,'./'+link[link.find('/turnstile_')+1:]) \n",
    "        time.sleep(1) #pause the code for a sec\n",
    "    #add 1 for next line\n",
    "    line_count +=1\n",
    "    "
   ]
  },
  {
   "cell_type": "code",
   "execution_count": null,
   "metadata": {},
   "outputs": [],
   "source": [
    "race_search_main = pd.read_html(str(race_search_main))\n",
    "race_search_main"
   ]
  },
  {
   "cell_type": "code",
   "execution_count": null,
   "metadata": {},
   "outputs": [],
   "source": []
  },
  {
   "cell_type": "code",
   "execution_count": null,
   "metadata": {},
   "outputs": [],
   "source": []
  }
 ],
 "metadata": {
  "kernelspec": {
   "display_name": "Python 3",
   "language": "python",
   "name": "python3"
  },
  "language_info": {
   "codemirror_mode": {
    "name": "ipython",
    "version": 3
   },
   "file_extension": ".py",
   "mimetype": "text/x-python",
   "name": "python",
   "nbconvert_exporter": "python",
   "pygments_lexer": "ipython3",
   "version": "3.7.6"
  }
 },
 "nbformat": 4,
 "nbformat_minor": 4
}
